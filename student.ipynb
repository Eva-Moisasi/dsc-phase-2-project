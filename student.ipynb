{
 "cells": [
  {
   "cell_type": "markdown",
   "metadata": {},
   "source": [
    "## Final Project Submission\n",
    "\n",
    "Please fill out:\n",
    "* Student name: Eva Moisasi\n",
    "* Student pace: part time \n",
    "* Scheduled project review date/time: \n",
    "* Instructor name: \n",
    "* Blog post URL:\n"
   ]
  },
  {
   "cell_type": "markdown",
   "metadata": {},
   "source": [
    "# Multiple Linear Regression on King County Housing "
   ]
  },
  {
   "cell_type": "markdown",
   "metadata": {},
   "source": [
    "# Business Problem\n",
    "In this project, we are analyzing the data to answer a critical question in the world of real estate. What factors should a housing development company consider while building a property so that it may sell for its highest price?"
   ]
  },
  {
   "cell_type": "code",
   "execution_count": 569,
   "metadata": {},
   "outputs": [],
   "source": [
    "#import the necessary libraries\n",
    "import pandas as pd\n",
    "import numpy as np\n",
    "import matplotlib.pyplot as plt\n",
    "%matplotlib inline\n",
    "import seaborn as sns"
   ]
  },
  {
   "cell_type": "code",
   "execution_count": 570,
   "metadata": {},
   "outputs": [
    {
     "data": {
      "text/html": [
       "<div>\n",
       "<style scoped>\n",
       "    .dataframe tbody tr th:only-of-type {\n",
       "        vertical-align: middle;\n",
       "    }\n",
       "\n",
       "    .dataframe tbody tr th {\n",
       "        vertical-align: top;\n",
       "    }\n",
       "\n",
       "    .dataframe thead th {\n",
       "        text-align: right;\n",
       "    }\n",
       "</style>\n",
       "<table border=\"1\" class=\"dataframe\">\n",
       "  <thead>\n",
       "    <tr style=\"text-align: right;\">\n",
       "      <th></th>\n",
       "      <th>id</th>\n",
       "      <th>date</th>\n",
       "      <th>price</th>\n",
       "      <th>bedrooms</th>\n",
       "      <th>bathrooms</th>\n",
       "      <th>sqft_living</th>\n",
       "      <th>sqft_lot</th>\n",
       "      <th>floors</th>\n",
       "      <th>waterfront</th>\n",
       "      <th>view</th>\n",
       "      <th>...</th>\n",
       "      <th>grade</th>\n",
       "      <th>sqft_above</th>\n",
       "      <th>sqft_basement</th>\n",
       "      <th>yr_built</th>\n",
       "      <th>yr_renovated</th>\n",
       "      <th>zipcode</th>\n",
       "      <th>lat</th>\n",
       "      <th>long</th>\n",
       "      <th>sqft_living15</th>\n",
       "      <th>sqft_lot15</th>\n",
       "    </tr>\n",
       "  </thead>\n",
       "  <tbody>\n",
       "    <tr>\n",
       "      <th>0</th>\n",
       "      <td>7129300520</td>\n",
       "      <td>10/13/2014</td>\n",
       "      <td>221900.0</td>\n",
       "      <td>3</td>\n",
       "      <td>1.00</td>\n",
       "      <td>1180</td>\n",
       "      <td>5650</td>\n",
       "      <td>1.0</td>\n",
       "      <td>NaN</td>\n",
       "      <td>0.0</td>\n",
       "      <td>...</td>\n",
       "      <td>7</td>\n",
       "      <td>1180</td>\n",
       "      <td>0.0</td>\n",
       "      <td>1955</td>\n",
       "      <td>0.0</td>\n",
       "      <td>98178</td>\n",
       "      <td>47.5112</td>\n",
       "      <td>-122.257</td>\n",
       "      <td>1340</td>\n",
       "      <td>5650</td>\n",
       "    </tr>\n",
       "    <tr>\n",
       "      <th>1</th>\n",
       "      <td>6414100192</td>\n",
       "      <td>12/9/2014</td>\n",
       "      <td>538000.0</td>\n",
       "      <td>3</td>\n",
       "      <td>2.25</td>\n",
       "      <td>2570</td>\n",
       "      <td>7242</td>\n",
       "      <td>2.0</td>\n",
       "      <td>0.0</td>\n",
       "      <td>0.0</td>\n",
       "      <td>...</td>\n",
       "      <td>7</td>\n",
       "      <td>2170</td>\n",
       "      <td>400.0</td>\n",
       "      <td>1951</td>\n",
       "      <td>1991.0</td>\n",
       "      <td>98125</td>\n",
       "      <td>47.7210</td>\n",
       "      <td>-122.319</td>\n",
       "      <td>1690</td>\n",
       "      <td>7639</td>\n",
       "    </tr>\n",
       "    <tr>\n",
       "      <th>2</th>\n",
       "      <td>5631500400</td>\n",
       "      <td>2/25/2015</td>\n",
       "      <td>180000.0</td>\n",
       "      <td>2</td>\n",
       "      <td>1.00</td>\n",
       "      <td>770</td>\n",
       "      <td>10000</td>\n",
       "      <td>1.0</td>\n",
       "      <td>0.0</td>\n",
       "      <td>0.0</td>\n",
       "      <td>...</td>\n",
       "      <td>6</td>\n",
       "      <td>770</td>\n",
       "      <td>0.0</td>\n",
       "      <td>1933</td>\n",
       "      <td>NaN</td>\n",
       "      <td>98028</td>\n",
       "      <td>47.7379</td>\n",
       "      <td>-122.233</td>\n",
       "      <td>2720</td>\n",
       "      <td>8062</td>\n",
       "    </tr>\n",
       "    <tr>\n",
       "      <th>3</th>\n",
       "      <td>2487200875</td>\n",
       "      <td>12/9/2014</td>\n",
       "      <td>604000.0</td>\n",
       "      <td>4</td>\n",
       "      <td>3.00</td>\n",
       "      <td>1960</td>\n",
       "      <td>5000</td>\n",
       "      <td>1.0</td>\n",
       "      <td>0.0</td>\n",
       "      <td>0.0</td>\n",
       "      <td>...</td>\n",
       "      <td>7</td>\n",
       "      <td>1050</td>\n",
       "      <td>910.0</td>\n",
       "      <td>1965</td>\n",
       "      <td>0.0</td>\n",
       "      <td>98136</td>\n",
       "      <td>47.5208</td>\n",
       "      <td>-122.393</td>\n",
       "      <td>1360</td>\n",
       "      <td>5000</td>\n",
       "    </tr>\n",
       "    <tr>\n",
       "      <th>4</th>\n",
       "      <td>1954400510</td>\n",
       "      <td>2/18/2015</td>\n",
       "      <td>510000.0</td>\n",
       "      <td>3</td>\n",
       "      <td>2.00</td>\n",
       "      <td>1680</td>\n",
       "      <td>8080</td>\n",
       "      <td>1.0</td>\n",
       "      <td>0.0</td>\n",
       "      <td>0.0</td>\n",
       "      <td>...</td>\n",
       "      <td>8</td>\n",
       "      <td>1680</td>\n",
       "      <td>0.0</td>\n",
       "      <td>1987</td>\n",
       "      <td>0.0</td>\n",
       "      <td>98074</td>\n",
       "      <td>47.6168</td>\n",
       "      <td>-122.045</td>\n",
       "      <td>1800</td>\n",
       "      <td>7503</td>\n",
       "    </tr>\n",
       "  </tbody>\n",
       "</table>\n",
       "<p>5 rows × 21 columns</p>\n",
       "</div>"
      ],
      "text/plain": [
       "           id        date     price  bedrooms  bathrooms  sqft_living  \\\n",
       "0  7129300520  10/13/2014  221900.0         3       1.00         1180   \n",
       "1  6414100192   12/9/2014  538000.0         3       2.25         2570   \n",
       "2  5631500400   2/25/2015  180000.0         2       1.00          770   \n",
       "3  2487200875   12/9/2014  604000.0         4       3.00         1960   \n",
       "4  1954400510   2/18/2015  510000.0         3       2.00         1680   \n",
       "\n",
       "   sqft_lot  floors  waterfront  view  ...  grade  sqft_above  sqft_basement  \\\n",
       "0      5650     1.0         NaN   0.0  ...      7        1180            0.0   \n",
       "1      7242     2.0         0.0   0.0  ...      7        2170          400.0   \n",
       "2     10000     1.0         0.0   0.0  ...      6         770            0.0   \n",
       "3      5000     1.0         0.0   0.0  ...      7        1050          910.0   \n",
       "4      8080     1.0         0.0   0.0  ...      8        1680            0.0   \n",
       "\n",
       "  yr_built  yr_renovated  zipcode      lat     long  sqft_living15  sqft_lot15  \n",
       "0     1955           0.0    98178  47.5112 -122.257           1340        5650  \n",
       "1     1951        1991.0    98125  47.7210 -122.319           1690        7639  \n",
       "2     1933           NaN    98028  47.7379 -122.233           2720        8062  \n",
       "3     1965           0.0    98136  47.5208 -122.393           1360        5000  \n",
       "4     1987           0.0    98074  47.6168 -122.045           1800        7503  \n",
       "\n",
       "[5 rows x 21 columns]"
      ]
     },
     "execution_count": 570,
     "metadata": {},
     "output_type": "execute_result"
    }
   ],
   "source": [
    "#Load the data\n",
    "data=pd.read_csv('data/kc_house_data.csv')\n",
    "data.head()\n"
   ]
  },
  {
   "cell_type": "code",
   "execution_count": 571,
   "metadata": {},
   "outputs": [
    {
     "name": "stdout",
     "output_type": "stream",
     "text": [
      "The number of rows is 21597\n",
      "The number of columns is 21\n"
     ]
    }
   ],
   "source": [
    "print(\"The number of rows is\",data.shape[0])\n",
    "print('The number of columns is',data.shape[1])"
   ]
  },
  {
   "cell_type": "code",
   "execution_count": 572,
   "metadata": {},
   "outputs": [
    {
     "name": "stdout",
     "output_type": "stream",
     "text": [
      "<class 'pandas.core.frame.DataFrame'>\n",
      "RangeIndex: 21597 entries, 0 to 21596\n",
      "Data columns (total 21 columns):\n",
      " #   Column         Non-Null Count  Dtype  \n",
      "---  ------         --------------  -----  \n",
      " 0   id             21597 non-null  int64  \n",
      " 1   date           21597 non-null  object \n",
      " 2   price          21597 non-null  float64\n",
      " 3   bedrooms       21597 non-null  int64  \n",
      " 4   bathrooms      21597 non-null  float64\n",
      " 5   sqft_living    21597 non-null  int64  \n",
      " 6   sqft_lot       21597 non-null  int64  \n",
      " 7   floors         21597 non-null  float64\n",
      " 8   waterfront     19221 non-null  float64\n",
      " 9   view           21534 non-null  float64\n",
      " 10  condition      21597 non-null  int64  \n",
      " 11  grade          21597 non-null  int64  \n",
      " 12  sqft_above     21597 non-null  int64  \n",
      " 13  sqft_basement  21597 non-null  object \n",
      " 14  yr_built       21597 non-null  int64  \n",
      " 15  yr_renovated   17755 non-null  float64\n",
      " 16  zipcode        21597 non-null  int64  \n",
      " 17  lat            21597 non-null  float64\n",
      " 18  long           21597 non-null  float64\n",
      " 19  sqft_living15  21597 non-null  int64  \n",
      " 20  sqft_lot15     21597 non-null  int64  \n",
      "dtypes: float64(8), int64(11), object(2)\n",
      "memory usage: 3.5+ MB\n"
     ]
    }
   ],
   "source": [
    "data.info()"
   ]
  },
  {
   "cell_type": "code",
   "execution_count": 573,
   "metadata": {},
   "outputs": [
    {
     "data": {
      "text/plain": [
       "0"
      ]
     },
     "execution_count": 573,
     "metadata": {},
     "output_type": "execute_result"
    }
   ],
   "source": [
    "#check for duplicates\n",
    "data.duplicated(keep = False).sum()"
   ]
  },
  {
   "cell_type": "markdown",
   "metadata": {},
   "source": [
    "# Drop the \"id\" and \"date\" columns since we don't need them."
   ]
  },
  {
   "cell_type": "code",
   "execution_count": 574,
   "metadata": {},
   "outputs": [],
   "source": [
    "data.drop([\"id\", \"date\"],axis=1, inplace = True)"
   ]
  },
  {
   "cell_type": "code",
   "execution_count": 575,
   "metadata": {},
   "outputs": [
    {
     "data": {
      "text/html": [
       "<div>\n",
       "<style scoped>\n",
       "    .dataframe tbody tr th:only-of-type {\n",
       "        vertical-align: middle;\n",
       "    }\n",
       "\n",
       "    .dataframe tbody tr th {\n",
       "        vertical-align: top;\n",
       "    }\n",
       "\n",
       "    .dataframe thead th {\n",
       "        text-align: right;\n",
       "    }\n",
       "</style>\n",
       "<table border=\"1\" class=\"dataframe\">\n",
       "  <thead>\n",
       "    <tr style=\"text-align: right;\">\n",
       "      <th></th>\n",
       "      <th>price</th>\n",
       "      <th>bedrooms</th>\n",
       "      <th>bathrooms</th>\n",
       "      <th>sqft_living</th>\n",
       "      <th>sqft_lot</th>\n",
       "      <th>floors</th>\n",
       "      <th>waterfront</th>\n",
       "      <th>view</th>\n",
       "      <th>condition</th>\n",
       "      <th>grade</th>\n",
       "      <th>sqft_above</th>\n",
       "      <th>sqft_basement</th>\n",
       "      <th>yr_built</th>\n",
       "      <th>yr_renovated</th>\n",
       "      <th>zipcode</th>\n",
       "      <th>lat</th>\n",
       "      <th>long</th>\n",
       "      <th>sqft_living15</th>\n",
       "      <th>sqft_lot15</th>\n",
       "    </tr>\n",
       "  </thead>\n",
       "  <tbody>\n",
       "    <tr>\n",
       "      <th>0</th>\n",
       "      <td>221900.0</td>\n",
       "      <td>3</td>\n",
       "      <td>1.00</td>\n",
       "      <td>1180</td>\n",
       "      <td>5650</td>\n",
       "      <td>1.0</td>\n",
       "      <td>NaN</td>\n",
       "      <td>0.0</td>\n",
       "      <td>3</td>\n",
       "      <td>7</td>\n",
       "      <td>1180</td>\n",
       "      <td>0.0</td>\n",
       "      <td>1955</td>\n",
       "      <td>0.0</td>\n",
       "      <td>98178</td>\n",
       "      <td>47.5112</td>\n",
       "      <td>-122.257</td>\n",
       "      <td>1340</td>\n",
       "      <td>5650</td>\n",
       "    </tr>\n",
       "    <tr>\n",
       "      <th>1</th>\n",
       "      <td>538000.0</td>\n",
       "      <td>3</td>\n",
       "      <td>2.25</td>\n",
       "      <td>2570</td>\n",
       "      <td>7242</td>\n",
       "      <td>2.0</td>\n",
       "      <td>0.0</td>\n",
       "      <td>0.0</td>\n",
       "      <td>3</td>\n",
       "      <td>7</td>\n",
       "      <td>2170</td>\n",
       "      <td>400.0</td>\n",
       "      <td>1951</td>\n",
       "      <td>1991.0</td>\n",
       "      <td>98125</td>\n",
       "      <td>47.7210</td>\n",
       "      <td>-122.319</td>\n",
       "      <td>1690</td>\n",
       "      <td>7639</td>\n",
       "    </tr>\n",
       "  </tbody>\n",
       "</table>\n",
       "</div>"
      ],
      "text/plain": [
       "      price  bedrooms  bathrooms  sqft_living  sqft_lot  floors  waterfront  \\\n",
       "0  221900.0         3       1.00         1180      5650     1.0         NaN   \n",
       "1  538000.0         3       2.25         2570      7242     2.0         0.0   \n",
       "\n",
       "   view  condition  grade  sqft_above sqft_basement  yr_built  yr_renovated  \\\n",
       "0   0.0          3      7        1180           0.0      1955           0.0   \n",
       "1   0.0          3      7        2170         400.0      1951        1991.0   \n",
       "\n",
       "   zipcode      lat     long  sqft_living15  sqft_lot15  \n",
       "0    98178  47.5112 -122.257           1340        5650  \n",
       "1    98125  47.7210 -122.319           1690        7639  "
      ]
     },
     "execution_count": 575,
     "metadata": {},
     "output_type": "execute_result"
    }
   ],
   "source": [
    "#confirm that the two columns have been droped\n",
    "data.head(2)"
   ]
  },
  {
   "cell_type": "markdown",
   "metadata": {},
   "source": [
    "# Fill null values for \"waterfront\"."
   ]
  },
  {
   "cell_type": "code",
   "execution_count": 576,
   "metadata": {},
   "outputs": [
    {
     "data": {
      "text/plain": [
       "price               0\n",
       "bedrooms            0\n",
       "bathrooms           0\n",
       "sqft_living         0\n",
       "sqft_lot            0\n",
       "floors              0\n",
       "waterfront       2376\n",
       "view               63\n",
       "condition           0\n",
       "grade               0\n",
       "sqft_above          0\n",
       "sqft_basement       0\n",
       "yr_built            0\n",
       "yr_renovated     3842\n",
       "zipcode             0\n",
       "lat                 0\n",
       "long                0\n",
       "sqft_living15       0\n",
       "sqft_lot15          0\n",
       "dtype: int64"
      ]
     },
     "execution_count": 576,
     "metadata": {},
     "output_type": "execute_result"
    }
   ],
   "source": [
    "#check for null values\n",
    "data.isnull().sum()"
   ]
  },
  {
   "cell_type": "code",
   "execution_count": 577,
   "metadata": {},
   "outputs": [
    {
     "name": "stdout",
     "output_type": "stream",
     "text": [
      "2376\n",
      "0.0    19075\n",
      "1.0      146\n",
      "Name: waterfront, dtype: int64\n"
     ]
    }
   ],
   "source": [
    "print(data.waterfront.isnull().sum())\n",
    "print(data['waterfront'].value_counts())\n"
   ]
  },
  {
   "cell_type": "code",
   "execution_count": 578,
   "metadata": {},
   "outputs": [
    {
     "name": "stdout",
     "output_type": "stream",
     "text": [
      "Mean =  0.007595858696217679\n",
      "Median =  0.0\n"
     ]
    }
   ],
   "source": [
    "print('Mean = ',data['waterfront'].mean())\n",
    "print('Median = ',data['waterfront'].median())"
   ]
  },
  {
   "cell_type": "code",
   "execution_count": 579,
   "metadata": {},
   "outputs": [
    {
     "data": {
      "text/plain": [
       "0"
      ]
     },
     "execution_count": 579,
     "metadata": {},
     "output_type": "execute_result"
    }
   ],
   "source": [
    "# Replace all the missing values in the waterfront column with the Median\n",
    "data['waterfront'].fillna(data['waterfront'].median(), inplace=True)\n",
    "data['waterfront'].isnull().sum()"
   ]
  },
  {
   "cell_type": "markdown",
   "metadata": {},
   "source": [
    "# Fill null values for \"view\" "
   ]
  },
  {
   "cell_type": "code",
   "execution_count": 580,
   "metadata": {},
   "outputs": [
    {
     "data": {
      "text/plain": [
       "0.0    19422\n",
       "2.0      957\n",
       "3.0      508\n",
       "1.0      330\n",
       "4.0      317\n",
       "Name: view, dtype: int64"
      ]
     },
     "execution_count": 580,
     "metadata": {},
     "output_type": "execute_result"
    }
   ],
   "source": [
    "data['view'].value_counts()"
   ]
  },
  {
   "cell_type": "code",
   "execution_count": 581,
   "metadata": {},
   "outputs": [
    {
     "data": {
      "text/plain": [
       "0.23386272870808952"
      ]
     },
     "execution_count": 581,
     "metadata": {},
     "output_type": "execute_result"
    }
   ],
   "source": [
    "data['view'].mean()"
   ]
  },
  {
   "cell_type": "code",
   "execution_count": 582,
   "metadata": {},
   "outputs": [
    {
     "data": {
      "text/plain": [
       "0.0"
      ]
     },
     "execution_count": 582,
     "metadata": {},
     "output_type": "execute_result"
    }
   ],
   "source": [
    "data['view'].median()"
   ]
  },
  {
   "cell_type": "code",
   "execution_count": 583,
   "metadata": {},
   "outputs": [],
   "source": [
    "data['view'].fillna(data['view'].median(),inplace=True)"
   ]
  },
  {
   "cell_type": "code",
   "execution_count": 584,
   "metadata": {},
   "outputs": [
    {
     "data": {
      "text/plain": [
       "0"
      ]
     },
     "execution_count": 584,
     "metadata": {},
     "output_type": "execute_result"
    }
   ],
   "source": [
    "data.view.isnull().sum()"
   ]
  },
  {
   "cell_type": "markdown",
   "metadata": {},
   "source": [
    "# Creat a new column to replace the yr_renovated where 1= Renovated and 0=Not renoveted"
   ]
  },
  {
   "cell_type": "code",
   "execution_count": 585,
   "metadata": {},
   "outputs": [
    {
     "data": {
      "text/plain": [
       "83.6367783722895"
      ]
     },
     "execution_count": 585,
     "metadata": {},
     "output_type": "execute_result"
    }
   ],
   "source": [
    "data.yr_renovated.mean()\n",
    "        "
   ]
  },
  {
   "cell_type": "code",
   "execution_count": 586,
   "metadata": {},
   "outputs": [
    {
     "data": {
      "text/plain": [
       "0.0"
      ]
     },
     "execution_count": 586,
     "metadata": {},
     "output_type": "execute_result"
    }
   ],
   "source": [
    "data.yr_renovated.median()"
   ]
  },
  {
   "cell_type": "code",
   "execution_count": 587,
   "metadata": {},
   "outputs": [
    {
     "data": {
      "text/plain": [
       "0"
      ]
     },
     "execution_count": 587,
     "metadata": {},
     "output_type": "execute_result"
    }
   ],
   "source": [
    "data.yr_renovated.fillna(data.yr_renovated.median(),inplace=True)\n",
    "data.yr_renovated.isnull().sum()"
   ]
  },
  {
   "cell_type": "code",
   "execution_count": 588,
   "metadata": {},
   "outputs": [],
   "source": [
    "data['renovated'] = np.where(data['yr_renovated'] == 0, 0, 1)\n"
   ]
  },
  {
   "cell_type": "code",
   "execution_count": 589,
   "metadata": {},
   "outputs": [],
   "source": [
    "#drop the \"yr_rnovated\" colum\n",
    "data.drop('yr_renovated',axis=1, inplace = True)"
   ]
  },
  {
   "cell_type": "code",
   "execution_count": 590,
   "metadata": {},
   "outputs": [
    {
     "data": {
      "text/plain": [
       "0    20853\n",
       "1      744\n",
       "Name: renovated, dtype: int64"
      ]
     },
     "execution_count": 590,
     "metadata": {},
     "output_type": "execute_result"
    }
   ],
   "source": [
    "data.renovated.value_counts()"
   ]
  },
  {
   "cell_type": "markdown",
   "metadata": {},
   "source": [
    "# clean \"Sqft_Basement\" column by replacing '?' with 0 and converting the data type from object ot float"
   ]
  },
  {
   "cell_type": "code",
   "execution_count": 591,
   "metadata": {},
   "outputs": [
    {
     "data": {
      "text/plain": [
       "0.0       12826\n",
       "?           454\n",
       "600.0       217\n",
       "500.0       209\n",
       "700.0       208\n",
       "          ...  \n",
       "2310.0        1\n",
       "415.0         1\n",
       "2580.0        1\n",
       "1880.0        1\n",
       "935.0         1\n",
       "Name: sqft_basement, Length: 304, dtype: int64"
      ]
     },
     "execution_count": 591,
     "metadata": {},
     "output_type": "execute_result"
    }
   ],
   "source": [
    "data.sqft_basement.value_counts()"
   ]
  },
  {
   "cell_type": "code",
   "execution_count": 592,
   "metadata": {},
   "outputs": [],
   "source": [
    "#replace the '?' in the besement column with 0\n",
    "data['sqft_basement'] = data['sqft_basement'].replace(to_replace='?', value='0.0')"
   ]
  },
  {
   "cell_type": "code",
   "execution_count": 593,
   "metadata": {},
   "outputs": [
    {
     "data": {
      "text/plain": [
       "0.0       13280\n",
       "600.0       217\n",
       "500.0       209\n",
       "700.0       208\n",
       "800.0       201\n",
       "          ...  \n",
       "2310.0        1\n",
       "415.0         1\n",
       "2580.0        1\n",
       "1880.0        1\n",
       "935.0         1\n",
       "Name: sqft_basement, Length: 303, dtype: int64"
      ]
     },
     "execution_count": 593,
     "metadata": {},
     "output_type": "execute_result"
    }
   ],
   "source": [
    "data.sqft_basement.value_counts()"
   ]
  },
  {
   "cell_type": "code",
   "execution_count": 594,
   "metadata": {},
   "outputs": [],
   "source": [
    "#convert the data type of 'sqft_basement' from object to float\n",
    "data['sqft_basement'] = data['sqft_basement'].astype(float)"
   ]
  },
  {
   "cell_type": "code",
   "execution_count": 595,
   "metadata": {},
   "outputs": [
    {
     "name": "stdout",
     "output_type": "stream",
     "text": [
      "<class 'pandas.core.frame.DataFrame'>\n",
      "RangeIndex: 21597 entries, 0 to 21596\n",
      "Data columns (total 19 columns):\n",
      " #   Column         Non-Null Count  Dtype  \n",
      "---  ------         --------------  -----  \n",
      " 0   price          21597 non-null  float64\n",
      " 1   bedrooms       21597 non-null  int64  \n",
      " 2   bathrooms      21597 non-null  float64\n",
      " 3   sqft_living    21597 non-null  int64  \n",
      " 4   sqft_lot       21597 non-null  int64  \n",
      " 5   floors         21597 non-null  float64\n",
      " 6   waterfront     21597 non-null  float64\n",
      " 7   view           21597 non-null  float64\n",
      " 8   condition      21597 non-null  int64  \n",
      " 9   grade          21597 non-null  int64  \n",
      " 10  sqft_above     21597 non-null  int64  \n",
      " 11  sqft_basement  21597 non-null  float64\n",
      " 12  yr_built       21597 non-null  int64  \n",
      " 13  zipcode        21597 non-null  int64  \n",
      " 14  lat            21597 non-null  float64\n",
      " 15  long           21597 non-null  float64\n",
      " 16  sqft_living15  21597 non-null  int64  \n",
      " 17  sqft_lot15     21597 non-null  int64  \n",
      " 18  renovated      21597 non-null  int32  \n",
      "dtypes: float64(8), int32(1), int64(10)\n",
      "memory usage: 3.0 MB\n"
     ]
    }
   ],
   "source": [
    "#confirm we don't have any null values\n",
    "data.info()"
   ]
  },
  {
   "cell_type": "code",
   "execution_count": 596,
   "metadata": {
    "scrolled": true
   },
   "outputs": [
    {
     "data": {
      "text/html": [
       "<div>\n",
       "<style scoped>\n",
       "    .dataframe tbody tr th:only-of-type {\n",
       "        vertical-align: middle;\n",
       "    }\n",
       "\n",
       "    .dataframe tbody tr th {\n",
       "        vertical-align: top;\n",
       "    }\n",
       "\n",
       "    .dataframe thead th {\n",
       "        text-align: right;\n",
       "    }\n",
       "</style>\n",
       "<table border=\"1\" class=\"dataframe\">\n",
       "  <thead>\n",
       "    <tr style=\"text-align: right;\">\n",
       "      <th></th>\n",
       "      <th>price</th>\n",
       "      <th>bedrooms</th>\n",
       "      <th>bathrooms</th>\n",
       "      <th>sqft_living</th>\n",
       "      <th>sqft_lot</th>\n",
       "      <th>floors</th>\n",
       "      <th>waterfront</th>\n",
       "      <th>view</th>\n",
       "      <th>condition</th>\n",
       "      <th>grade</th>\n",
       "      <th>sqft_above</th>\n",
       "      <th>sqft_basement</th>\n",
       "      <th>yr_built</th>\n",
       "      <th>zipcode</th>\n",
       "      <th>lat</th>\n",
       "      <th>long</th>\n",
       "      <th>sqft_living15</th>\n",
       "      <th>sqft_lot15</th>\n",
       "      <th>renovated</th>\n",
       "    </tr>\n",
       "  </thead>\n",
       "  <tbody>\n",
       "    <tr>\n",
       "      <th>count</th>\n",
       "      <td>2.159700e+04</td>\n",
       "      <td>21597.000000</td>\n",
       "      <td>21597.000000</td>\n",
       "      <td>21597.000000</td>\n",
       "      <td>2.159700e+04</td>\n",
       "      <td>21597.000000</td>\n",
       "      <td>21597.000000</td>\n",
       "      <td>21597.000000</td>\n",
       "      <td>21597.000000</td>\n",
       "      <td>21597.000000</td>\n",
       "      <td>21597.000000</td>\n",
       "      <td>21597.000000</td>\n",
       "      <td>21597.000000</td>\n",
       "      <td>21597.000000</td>\n",
       "      <td>21597.000000</td>\n",
       "      <td>21597.000000</td>\n",
       "      <td>21597.000000</td>\n",
       "      <td>21597.000000</td>\n",
       "      <td>21597.000000</td>\n",
       "    </tr>\n",
       "    <tr>\n",
       "      <th>mean</th>\n",
       "      <td>5.402966e+05</td>\n",
       "      <td>3.373200</td>\n",
       "      <td>2.115826</td>\n",
       "      <td>2080.321850</td>\n",
       "      <td>1.509941e+04</td>\n",
       "      <td>1.494096</td>\n",
       "      <td>0.006760</td>\n",
       "      <td>0.233181</td>\n",
       "      <td>3.409825</td>\n",
       "      <td>7.657915</td>\n",
       "      <td>1788.596842</td>\n",
       "      <td>285.716581</td>\n",
       "      <td>1970.999676</td>\n",
       "      <td>98077.951845</td>\n",
       "      <td>47.560093</td>\n",
       "      <td>-122.213982</td>\n",
       "      <td>1986.620318</td>\n",
       "      <td>12758.283512</td>\n",
       "      <td>0.034449</td>\n",
       "    </tr>\n",
       "    <tr>\n",
       "      <th>std</th>\n",
       "      <td>3.673681e+05</td>\n",
       "      <td>0.926299</td>\n",
       "      <td>0.768984</td>\n",
       "      <td>918.106125</td>\n",
       "      <td>4.141264e+04</td>\n",
       "      <td>0.539683</td>\n",
       "      <td>0.081944</td>\n",
       "      <td>0.764673</td>\n",
       "      <td>0.650546</td>\n",
       "      <td>1.173200</td>\n",
       "      <td>827.759761</td>\n",
       "      <td>439.819830</td>\n",
       "      <td>29.375234</td>\n",
       "      <td>53.513072</td>\n",
       "      <td>0.138552</td>\n",
       "      <td>0.140724</td>\n",
       "      <td>685.230472</td>\n",
       "      <td>27274.441950</td>\n",
       "      <td>0.182384</td>\n",
       "    </tr>\n",
       "    <tr>\n",
       "      <th>min</th>\n",
       "      <td>7.800000e+04</td>\n",
       "      <td>1.000000</td>\n",
       "      <td>0.500000</td>\n",
       "      <td>370.000000</td>\n",
       "      <td>5.200000e+02</td>\n",
       "      <td>1.000000</td>\n",
       "      <td>0.000000</td>\n",
       "      <td>0.000000</td>\n",
       "      <td>1.000000</td>\n",
       "      <td>3.000000</td>\n",
       "      <td>370.000000</td>\n",
       "      <td>0.000000</td>\n",
       "      <td>1900.000000</td>\n",
       "      <td>98001.000000</td>\n",
       "      <td>47.155900</td>\n",
       "      <td>-122.519000</td>\n",
       "      <td>399.000000</td>\n",
       "      <td>651.000000</td>\n",
       "      <td>0.000000</td>\n",
       "    </tr>\n",
       "    <tr>\n",
       "      <th>25%</th>\n",
       "      <td>3.220000e+05</td>\n",
       "      <td>3.000000</td>\n",
       "      <td>1.750000</td>\n",
       "      <td>1430.000000</td>\n",
       "      <td>5.040000e+03</td>\n",
       "      <td>1.000000</td>\n",
       "      <td>0.000000</td>\n",
       "      <td>0.000000</td>\n",
       "      <td>3.000000</td>\n",
       "      <td>7.000000</td>\n",
       "      <td>1190.000000</td>\n",
       "      <td>0.000000</td>\n",
       "      <td>1951.000000</td>\n",
       "      <td>98033.000000</td>\n",
       "      <td>47.471100</td>\n",
       "      <td>-122.328000</td>\n",
       "      <td>1490.000000</td>\n",
       "      <td>5100.000000</td>\n",
       "      <td>0.000000</td>\n",
       "    </tr>\n",
       "    <tr>\n",
       "      <th>50%</th>\n",
       "      <td>4.500000e+05</td>\n",
       "      <td>3.000000</td>\n",
       "      <td>2.250000</td>\n",
       "      <td>1910.000000</td>\n",
       "      <td>7.618000e+03</td>\n",
       "      <td>1.500000</td>\n",
       "      <td>0.000000</td>\n",
       "      <td>0.000000</td>\n",
       "      <td>3.000000</td>\n",
       "      <td>7.000000</td>\n",
       "      <td>1560.000000</td>\n",
       "      <td>0.000000</td>\n",
       "      <td>1975.000000</td>\n",
       "      <td>98065.000000</td>\n",
       "      <td>47.571800</td>\n",
       "      <td>-122.231000</td>\n",
       "      <td>1840.000000</td>\n",
       "      <td>7620.000000</td>\n",
       "      <td>0.000000</td>\n",
       "    </tr>\n",
       "    <tr>\n",
       "      <th>75%</th>\n",
       "      <td>6.450000e+05</td>\n",
       "      <td>4.000000</td>\n",
       "      <td>2.500000</td>\n",
       "      <td>2550.000000</td>\n",
       "      <td>1.068500e+04</td>\n",
       "      <td>2.000000</td>\n",
       "      <td>0.000000</td>\n",
       "      <td>0.000000</td>\n",
       "      <td>4.000000</td>\n",
       "      <td>8.000000</td>\n",
       "      <td>2210.000000</td>\n",
       "      <td>550.000000</td>\n",
       "      <td>1997.000000</td>\n",
       "      <td>98118.000000</td>\n",
       "      <td>47.678000</td>\n",
       "      <td>-122.125000</td>\n",
       "      <td>2360.000000</td>\n",
       "      <td>10083.000000</td>\n",
       "      <td>0.000000</td>\n",
       "    </tr>\n",
       "    <tr>\n",
       "      <th>max</th>\n",
       "      <td>7.700000e+06</td>\n",
       "      <td>33.000000</td>\n",
       "      <td>8.000000</td>\n",
       "      <td>13540.000000</td>\n",
       "      <td>1.651359e+06</td>\n",
       "      <td>3.500000</td>\n",
       "      <td>1.000000</td>\n",
       "      <td>4.000000</td>\n",
       "      <td>5.000000</td>\n",
       "      <td>13.000000</td>\n",
       "      <td>9410.000000</td>\n",
       "      <td>4820.000000</td>\n",
       "      <td>2015.000000</td>\n",
       "      <td>98199.000000</td>\n",
       "      <td>47.777600</td>\n",
       "      <td>-121.315000</td>\n",
       "      <td>6210.000000</td>\n",
       "      <td>871200.000000</td>\n",
       "      <td>1.000000</td>\n",
       "    </tr>\n",
       "  </tbody>\n",
       "</table>\n",
       "</div>"
      ],
      "text/plain": [
       "              price      bedrooms     bathrooms   sqft_living      sqft_lot  \\\n",
       "count  2.159700e+04  21597.000000  21597.000000  21597.000000  2.159700e+04   \n",
       "mean   5.402966e+05      3.373200      2.115826   2080.321850  1.509941e+04   \n",
       "std    3.673681e+05      0.926299      0.768984    918.106125  4.141264e+04   \n",
       "min    7.800000e+04      1.000000      0.500000    370.000000  5.200000e+02   \n",
       "25%    3.220000e+05      3.000000      1.750000   1430.000000  5.040000e+03   \n",
       "50%    4.500000e+05      3.000000      2.250000   1910.000000  7.618000e+03   \n",
       "75%    6.450000e+05      4.000000      2.500000   2550.000000  1.068500e+04   \n",
       "max    7.700000e+06     33.000000      8.000000  13540.000000  1.651359e+06   \n",
       "\n",
       "             floors    waterfront          view     condition         grade  \\\n",
       "count  21597.000000  21597.000000  21597.000000  21597.000000  21597.000000   \n",
       "mean       1.494096      0.006760      0.233181      3.409825      7.657915   \n",
       "std        0.539683      0.081944      0.764673      0.650546      1.173200   \n",
       "min        1.000000      0.000000      0.000000      1.000000      3.000000   \n",
       "25%        1.000000      0.000000      0.000000      3.000000      7.000000   \n",
       "50%        1.500000      0.000000      0.000000      3.000000      7.000000   \n",
       "75%        2.000000      0.000000      0.000000      4.000000      8.000000   \n",
       "max        3.500000      1.000000      4.000000      5.000000     13.000000   \n",
       "\n",
       "         sqft_above  sqft_basement      yr_built       zipcode           lat  \\\n",
       "count  21597.000000   21597.000000  21597.000000  21597.000000  21597.000000   \n",
       "mean    1788.596842     285.716581   1970.999676  98077.951845     47.560093   \n",
       "std      827.759761     439.819830     29.375234     53.513072      0.138552   \n",
       "min      370.000000       0.000000   1900.000000  98001.000000     47.155900   \n",
       "25%     1190.000000       0.000000   1951.000000  98033.000000     47.471100   \n",
       "50%     1560.000000       0.000000   1975.000000  98065.000000     47.571800   \n",
       "75%     2210.000000     550.000000   1997.000000  98118.000000     47.678000   \n",
       "max     9410.000000    4820.000000   2015.000000  98199.000000     47.777600   \n",
       "\n",
       "               long  sqft_living15     sqft_lot15     renovated  \n",
       "count  21597.000000   21597.000000   21597.000000  21597.000000  \n",
       "mean    -122.213982    1986.620318   12758.283512      0.034449  \n",
       "std        0.140724     685.230472   27274.441950      0.182384  \n",
       "min     -122.519000     399.000000     651.000000      0.000000  \n",
       "25%     -122.328000    1490.000000    5100.000000      0.000000  \n",
       "50%     -122.231000    1840.000000    7620.000000      0.000000  \n",
       "75%     -122.125000    2360.000000   10083.000000      0.000000  \n",
       "max     -121.315000    6210.000000  871200.000000      1.000000  "
      ]
     },
     "execution_count": 596,
     "metadata": {},
     "output_type": "execute_result"
    }
   ],
   "source": [
    "#check the data statistics\n",
    "data.describe()"
   ]
  },
  {
   "cell_type": "code",
   "execution_count": 597,
   "metadata": {},
   "outputs": [
    {
     "data": {
      "text/plain": [
       "<AxesSubplot:>"
      ]
     },
     "execution_count": 597,
     "metadata": {},
     "output_type": "execute_result"
    },
    {
     "data": {
      "image/png": "[encoded data removed]",
      "text/plain": [
       "<Figure size 1800x1080 with 2 Axes>"
      ]
     },
     "metadata": {},
     "output_type": "display_data"
    }
   ],
   "source": [
    "#create a heatmap\n",
    "\n",
    "sns.set(style=\"white\")\n",
    "\n",
    "# Compute the correlation matrix\n",
    "corr = data.corr()\n",
    "\n",
    "# Generate a mask for the upper triangle\n",
    "mask = np.zeros_like(corr, dtype=np.bool)\n",
    "mask[np.triu_indices_from(mask)] = True\n",
    "\n",
    "# Set up the matplotlib figure\n",
    "f, ax = plt.subplots(figsize=(25, 15))\n",
    "\n",
    "# Generate a custom diverging colormap\n",
    "cmap = sns.diverging_palette(220, 10, as_cmap=True)\n",
    "\n",
    "# Draw the heatmap with the mask and correct aspect ratio\n",
    "sns.heatmap(corr, mask=mask, cmap=cmap, center=0,\n",
    "            square=True, linewidths=.5, cbar_kws={\"shrink\": .5}, annot=True)"
   ]
  },
  {
   "cell_type": "code",
   "execution_count": 598,
   "metadata": {
    "scrolled": false
   },
   "outputs": [
    {
     "name": "stderr",
     "output_type": "stream",
     "text": [
      "C:\\Users\\User\\anaconda3\\envs\\learn-env\\lib\\site-packages\\seaborn\\_decorators.py:36: FutureWarning: Pass the following variables as keyword args: x, y. From version 0.12, the only valid positional argument will be `data`, and passing other arguments without an explicit keyword will result in an error or misinterpretation.\n",
      "  warnings.warn(\n"
     ]
    },
    {
     "data": {
      "image/png": "[encoded data removed]",
      "text/plain": [
       "<Figure size 432x432 with 3 Axes>"
      ]
     },
     "metadata": {},
     "output_type": "display_data"
    }
   ],
   "source": [
    "# examining the relationship between sqft_living and price\n",
    "sns.jointplot('sqft_living',\"price\", data=data, kind='reg')\n",
    "ax.set_title('Square footliving vs. Price', fontsize=50)\n",
    "plt.tight_layout()\n",
    "\n"
   ]
  },
  {
   "cell_type": "markdown",
   "metadata": {},
   "source": [
    "The visualization above shows that there seems to be a relatively strong linear relationship between square feet of living space and the price of a house."
   ]
  },
  {
   "cell_type": "code",
   "execution_count": 599,
   "metadata": {},
   "outputs": [
    {
     "data": {
      "image/png": "[encoded data removed]",
      "text/plain": [
       "<Figure size 864x576 with 1 Axes>"
      ]
     },
     "metadata": {},
     "output_type": "display_data"
    }
   ],
   "source": [
    "# examining the relationship between grade and price\n",
    "plt.figure(figsize=(12,8))\n",
    "sns.boxplot(x = 'grade', y = 'price', data = data)\n",
    "plt.title('House Grade by Price',fontsize=30)\n",
    "plt.show()"
   ]
  },
  {
   "cell_type": "markdown",
   "metadata": {},
   "source": [
    "The visualization above shows that when the  building grade improves, the house price rise as well. We can see in the boxplot above that the mean house price for a home with a grade of 13 is far above other grades. While the building grade of 3 falls short of minimum building standards based on King County grading system."
   ]
  },
  {
   "cell_type": "markdown",
   "metadata": {},
   "source": [
    "# Feature Selection: Grade, Sqft_Living, Sqft_Living15\n",
    "Create scatter plot to check for linearity"
   ]
  },
  {
   "cell_type": "code",
   "execution_count": 600,
   "metadata": {},
   "outputs": [
    {
     "name": "stderr",
     "output_type": "stream",
     "text": [
      "*c* argument looks like a single numeric RGB or RGBA sequence, which should be avoided as value-mapping will have precedence in case its length matches with *x* & *y*.  Please use the *color* keyword-argument or provide a 2-D array with a single row if you intend to specify the same RGB or RGBA value for all points.\n"
     ]
    },
    {
     "data": {
      "text/plain": [
       "<AxesSubplot:xlabel='grade', ylabel='price'>"
      ]
     },
     "execution_count": 600,
     "metadata": {},
     "output_type": "execute_result"
    },
    {
     "data": {
      "image/png": "[encoded data removed]",
      "text/plain": [
       "<Figure size 432x288 with 1 Axes>"
      ]
     },
     "metadata": {},
     "output_type": "display_data"
    }
   ],
   "source": [
    "data.plot(\"grade\",\"price\", kind='scatter')"
   ]
  },
  {
   "cell_type": "code",
   "execution_count": 601,
   "metadata": {},
   "outputs": [
    {
     "name": "stderr",
     "output_type": "stream",
     "text": [
      "*c* argument looks like a single numeric RGB or RGBA sequence, which should be avoided as value-mapping will have precedence in case its length matches with *x* & *y*.  Please use the *color* keyword-argument or provide a 2-D array with a single row if you intend to specify the same RGB or RGBA value for all points.\n"
     ]
    },
    {
     "data": {
      "image/png": "[encoded data removed]",
      "text/plain": [
       "<Figure size 432x288 with 1 Axes>"
      ]
     },
     "metadata": {},
     "output_type": "display_data"
    }
   ],
   "source": [
    "data.plot(\"sqft_living\",\"price\", kind='scatter')\n",
    "plt.show()"
   ]
  },
  {
   "cell_type": "code",
   "execution_count": 602,
   "metadata": {},
   "outputs": [
    {
     "name": "stderr",
     "output_type": "stream",
     "text": [
      "*c* argument looks like a single numeric RGB or RGBA sequence, which should be avoided as value-mapping will have precedence in case its length matches with *x* & *y*.  Please use the *color* keyword-argument or provide a 2-D array with a single row if you intend to specify the same RGB or RGBA value for all points.\n"
     ]
    },
    {
     "data": {
      "image/png": "[encoded data removed]",
      "text/plain": [
       "<Figure size 432x288 with 1 Axes>"
      ]
     },
     "metadata": {},
     "output_type": "display_data"
    }
   ],
   "source": [
    "data.plot('sqft_living15',\"price\", kind='scatter')\n",
    "plt.show()"
   ]
  },
  {
   "cell_type": "code",
   "execution_count": 603,
   "metadata": {},
   "outputs": [
    {
     "name": "stderr",
     "output_type": "stream",
     "text": [
      "*c* argument looks like a single numeric RGB or RGBA sequence, which should be avoided as value-mapping will have precedence in case its length matches with *x* & *y*.  Please use the *color* keyword-argument or provide a 2-D array with a single row if you intend to specify the same RGB or RGBA value for all points.\n"
     ]
    },
    {
     "data": {
      "image/png": "[encoded data removed]",
      "text/plain": [
       "<Figure size 432x288 with 1 Axes>"
      ]
     },
     "metadata": {},
     "output_type": "display_data"
    }
   ],
   "source": [
    "data.plot('sqft_above',\"price\", kind='scatter')\n",
    "plt.show()"
   ]
  },
  {
   "cell_type": "markdown",
   "metadata": {},
   "source": [
    "# Create a Model"
   ]
  },
  {
   "cell_type": "code",
   "execution_count": 604,
   "metadata": {},
   "outputs": [
    {
     "data": {
      "text/html": [
       "<table class=\"simpletable\">\n",
       "<caption>OLS Regression Results</caption>\n",
       "<tr>\n",
       "  <th>Dep. Variable:</th>          <td>price</td>      <th>  R-squared:         </th>  <td>   0.542</td>  \n",
       "</tr>\n",
       "<tr>\n",
       "  <th>Model:</th>                   <td>OLS</td>       <th>  Adj. R-squared:    </th>  <td>   0.542</td>  \n",
       "</tr>\n",
       "<tr>\n",
       "  <th>Method:</th>             <td>Least Squares</td>  <th>  F-statistic:       </th>  <td>   6392.</td>  \n",
       "</tr>\n",
       "<tr>\n",
       "  <th>Date:</th>             <td>Wed, 14 Dec 2022</td> <th>  Prob (F-statistic):</th>   <td>  0.00</td>   \n",
       "</tr>\n",
       "<tr>\n",
       "  <th>Time:</th>                 <td>16:00:36</td>     <th>  Log-Likelihood:    </th> <td>-2.9895e+05</td>\n",
       "</tr>\n",
       "<tr>\n",
       "  <th>No. Observations:</th>      <td> 21597</td>      <th>  AIC:               </th>  <td>5.979e+05</td> \n",
       "</tr>\n",
       "<tr>\n",
       "  <th>Df Residuals:</th>          <td> 21592</td>      <th>  BIC:               </th>  <td>5.980e+05</td> \n",
       "</tr>\n",
       "<tr>\n",
       "  <th>Df Model:</th>              <td>     4</td>      <th>                     </th>      <td> </td>     \n",
       "</tr>\n",
       "<tr>\n",
       "  <th>Covariance Type:</th>      <td>nonrobust</td>    <th>                     </th>      <td> </td>     \n",
       "</tr>\n",
       "</table>\n",
       "<table class=\"simpletable\">\n",
       "<tr>\n",
       "        <td></td>           <th>coef</th>     <th>std err</th>      <th>t</th>      <th>P>|t|</th>  <th>[0.025</th>    <th>0.975]</th>  \n",
       "</tr>\n",
       "<tr>\n",
       "  <th>Intercept</th>     <td>-6.524e+05</td> <td> 1.36e+04</td> <td>  -47.992</td> <td> 0.000</td> <td>-6.79e+05</td> <td>-6.26e+05</td>\n",
       "</tr>\n",
       "<tr>\n",
       "  <th>grade</th>         <td> 1.065e+05</td> <td> 2420.294</td> <td>   43.989</td> <td> 0.000</td> <td> 1.02e+05</td> <td> 1.11e+05</td>\n",
       "</tr>\n",
       "<tr>\n",
       "  <th>sqft_living</th>   <td>  227.4630</td> <td>    4.188</td> <td>   54.316</td> <td> 0.000</td> <td>  219.255</td> <td>  235.671</td>\n",
       "</tr>\n",
       "<tr>\n",
       "  <th>sqft_living15</th> <td>   25.6797</td> <td>    4.029</td> <td>    6.374</td> <td> 0.000</td> <td>   17.783</td> <td>   33.576</td>\n",
       "</tr>\n",
       "<tr>\n",
       "  <th>sqft_above</th>    <td>  -82.0946</td> <td>    4.467</td> <td>  -18.378</td> <td> 0.000</td> <td>  -90.850</td> <td>  -73.339</td>\n",
       "</tr>\n",
       "</table>\n",
       "<table class=\"simpletable\">\n",
       "<tr>\n",
       "  <th>Omnibus:</th>       <td>17311.756</td> <th>  Durbin-Watson:     </th>  <td>   1.977</td>  \n",
       "</tr>\n",
       "<tr>\n",
       "  <th>Prob(Omnibus):</th>  <td> 0.000</td>   <th>  Jarque-Bera (JB):  </th> <td>1135308.372</td>\n",
       "</tr>\n",
       "<tr>\n",
       "  <th>Skew:</th>           <td> 3.379</td>   <th>  Prob(JB):          </th>  <td>    0.00</td>  \n",
       "</tr>\n",
       "<tr>\n",
       "  <th>Kurtosis:</th>       <td>37.871</td>   <th>  Cond. No.          </th>  <td>2.96e+04</td>  \n",
       "</tr>\n",
       "</table><br/><br/>Notes:<br/>[1] Standard Errors assume that the covariance matrix of the errors is correctly specified.<br/>[2] The condition number is large, 2.96e+04. This might indicate that there are<br/>strong multicollinearity or other numerical problems."
      ],
      "text/plain": [
       "<class 'statsmodels.iolib.summary.Summary'>\n",
       "\"\"\"\n",
       "                            OLS Regression Results                            \n",
       "==============================================================================\n",
       "Dep. Variable:                  price   R-squared:                       0.542\n",
       "Model:                            OLS   Adj. R-squared:                  0.542\n",
       "Method:                 Least Squares   F-statistic:                     6392.\n",
       "Date:                Wed, 14 Dec 2022   Prob (F-statistic):               0.00\n",
       "Time:                        16:00:36   Log-Likelihood:            -2.9895e+05\n",
       "No. Observations:               21597   AIC:                         5.979e+05\n",
       "Df Residuals:                   21592   BIC:                         5.980e+05\n",
       "Df Model:                           4                                         \n",
       "Covariance Type:            nonrobust                                         \n",
       "=================================================================================\n",
       "                    coef    std err          t      P>|t|      [0.025      0.975]\n",
       "---------------------------------------------------------------------------------\n",
       "Intercept     -6.524e+05   1.36e+04    -47.992      0.000   -6.79e+05   -6.26e+05\n",
       "grade          1.065e+05   2420.294     43.989      0.000    1.02e+05    1.11e+05\n",
       "sqft_living     227.4630      4.188     54.316      0.000     219.255     235.671\n",
       "sqft_living15    25.6797      4.029      6.374      0.000      17.783      33.576\n",
       "sqft_above      -82.0946      4.467    -18.378      0.000     -90.850     -73.339\n",
       "==============================================================================\n",
       "Omnibus:                    17311.756   Durbin-Watson:                   1.977\n",
       "Prob(Omnibus):                  0.000   Jarque-Bera (JB):          1135308.372\n",
       "Skew:                           3.379   Prob(JB):                         0.00\n",
       "Kurtosis:                      37.871   Cond. No.                     2.96e+04\n",
       "==============================================================================\n",
       "\n",
       "Notes:\n",
       "[1] Standard Errors assume that the covariance matrix of the errors is correctly specified.\n",
       "[2] The condition number is large, 2.96e+04. This might indicate that there are\n",
       "strong multicollinearity or other numerical problems.\n",
       "\"\"\""
      ]
     },
     "execution_count": 604,
     "metadata": {},
     "output_type": "execute_result"
    }
   ],
   "source": [
    "#create a model with the selected features\n",
    "from statsmodels.formula.api import ols\n",
    "f = 'price~grade+sqft_living+sqft_living15+sqft_above'\n",
    "model = ols(formula=f, data=data).fit()\n",
    "model.summary()\n"
   ]
  },
  {
   "cell_type": "markdown",
   "metadata": {},
   "source": [
    "Based on the r2 score, only 54.2% of our results can be explained from the data. This is low, Another model will have to be run, potentially with more/transformed variables in order to get a more trustworthy result."
   ]
  },
  {
   "cell_type": "markdown",
   "metadata": {},
   "source": [
    "# Model 2\n",
    "Let's first Standardize the variables"
   ]
  },
  {
   "cell_type": "code",
   "execution_count": 605,
   "metadata": {},
   "outputs": [
    {
     "name": "stderr",
     "output_type": "stream",
     "text": [
      "C:\\Users\\User\\anaconda3\\envs\\learn-env\\lib\\site-packages\\seaborn\\distributions.py:2551: FutureWarning: `distplot` is a deprecated function and will be removed in a future version. Please adapt your code to use either `displot` (a figure-level function with similar flexibility) or `histplot` (an axes-level function for histograms).\n",
      "  warnings.warn(msg, FutureWarning)\n"
     ]
    },
    {
     "data": {
      "image/png": "[encoded data removed]",
      "text/plain": [
       "<Figure size 432x288 with 1 Axes>"
      ]
     },
     "metadata": {},
     "output_type": "display_data"
    }
   ],
   "source": [
    "from sklearn.preprocessing import StandardScaler\n",
    "scaler = StandardScaler()\n",
    "col_data = data['sqft_living15'].values.reshape(-1,1)\n",
    "scale_data = scaler.fit_transform(col_data)\n",
    "data['sqft_living15_sc'] = scale_data.flatten()\n",
    "\n",
    "x = data['sqft_living15_sc']\n",
    "ax = sns.distplot(x)\n"
   ]
  },
  {
   "cell_type": "code",
   "execution_count": 606,
   "metadata": {},
   "outputs": [
    {
     "name": "stderr",
     "output_type": "stream",
     "text": [
      "C:\\Users\\User\\anaconda3\\envs\\learn-env\\lib\\site-packages\\seaborn\\distributions.py:2551: FutureWarning: `distplot` is a deprecated function and will be removed in a future version. Please adapt your code to use either `displot` (a figure-level function with similar flexibility) or `histplot` (an axes-level function for histograms).\n",
      "  warnings.warn(msg, FutureWarning)\n"
     ]
    },
    {
     "data": {
      "image/png": "[encoded data removed]",
      "text/plain": [
       "<Figure size 432x288 with 1 Axes>"
      ]
     },
     "metadata": {},
     "output_type": "display_data"
    }
   ],
   "source": [
    "scaler = StandardScaler()\n",
    "col_data =data['sqft_living'].values.reshape(-1,1)\n",
    "scale_data = scaler.fit_transform(col_data)\n",
    "data['sqft_living_sc'] = scale_data.flatten()\n",
    "\n",
    "x = data['sqft_living_sc']\n",
    "ax = sns.distplot(x)\n"
   ]
  },
  {
   "cell_type": "code",
   "execution_count": 607,
   "metadata": {},
   "outputs": [
    {
     "name": "stderr",
     "output_type": "stream",
     "text": [
      "C:\\Users\\User\\anaconda3\\envs\\learn-env\\lib\\site-packages\\seaborn\\distributions.py:2551: FutureWarning: `distplot` is a deprecated function and will be removed in a future version. Please adapt your code to use either `displot` (a figure-level function with similar flexibility) or `histplot` (an axes-level function for histograms).\n",
      "  warnings.warn(msg, FutureWarning)\n"
     ]
    },
    {
     "data": {
      "image/png": "[encoded data removed]",
      "text/plain": [
       "<Figure size 432x288 with 1 Axes>"
      ]
     },
     "metadata": {},
     "output_type": "display_data"
    }
   ],
   "source": [
    "scaler = StandardScaler()\n",
    "col_data = data['grade'].values.reshape(-1,1)\n",
    "scale_data = scaler.fit_transform(col_data)\n",
    "data['grade_sc'] = scale_data.flatten()\n",
    "\n",
    "x = data['grade_sc']\n",
    "ax = sns.distplot(x)\n"
   ]
  },
  {
   "cell_type": "code",
   "execution_count": 608,
   "metadata": {},
   "outputs": [
    {
     "data": {
      "text/html": [
       "<table class=\"simpletable\">\n",
       "<caption>OLS Regression Results</caption>\n",
       "<tr>\n",
       "  <th>Dep. Variable:</th>          <td>price</td>      <th>  R-squared:         </th>  <td>   0.535</td>  \n",
       "</tr>\n",
       "<tr>\n",
       "  <th>Model:</th>                   <td>OLS</td>       <th>  Adj. R-squared:    </th>  <td>   0.535</td>  \n",
       "</tr>\n",
       "<tr>\n",
       "  <th>Method:</th>             <td>Least Squares</td>  <th>  F-statistic:       </th>  <td>   8282.</td>  \n",
       "</tr>\n",
       "<tr>\n",
       "  <th>Date:</th>             <td>Wed, 14 Dec 2022</td> <th>  Prob (F-statistic):</th>   <td>  0.00</td>   \n",
       "</tr>\n",
       "<tr>\n",
       "  <th>Time:</th>                 <td>16:00:37</td>     <th>  Log-Likelihood:    </th> <td>-2.9912e+05</td>\n",
       "</tr>\n",
       "<tr>\n",
       "  <th>No. Observations:</th>      <td> 21597</td>      <th>  AIC:               </th>  <td>5.983e+05</td> \n",
       "</tr>\n",
       "<tr>\n",
       "  <th>Df Residuals:</th>          <td> 21593</td>      <th>  BIC:               </th>  <td>5.983e+05</td> \n",
       "</tr>\n",
       "<tr>\n",
       "  <th>Df Model:</th>              <td>     3</td>      <th>                     </th>      <td> </td>     \n",
       "</tr>\n",
       "<tr>\n",
       "  <th>Covariance Type:</th>      <td>nonrobust</td>    <th>                     </th>      <td> </td>     \n",
       "</tr>\n",
       "</table>\n",
       "<table class=\"simpletable\">\n",
       "<tr>\n",
       "          <td></td>            <th>coef</th>     <th>std err</th>      <th>t</th>      <th>P>|t|</th>  <th>[0.025</th>    <th>0.975]</th>  \n",
       "</tr>\n",
       "<tr>\n",
       "  <th>Intercept</th>        <td> 5.403e+05</td> <td> 1704.734</td> <td>  316.939</td> <td> 0.000</td> <td> 5.37e+05</td> <td> 5.44e+05</td>\n",
       "</tr>\n",
       "<tr>\n",
       "  <th>grade_sc</th>         <td>  1.13e+05</td> <td> 2786.181</td> <td>   40.561</td> <td> 0.000</td> <td> 1.08e+05</td> <td> 1.18e+05</td>\n",
       "</tr>\n",
       "<tr>\n",
       "  <th>sqft_living_sc</th>   <td> 1.637e+05</td> <td> 2982.858</td> <td>   54.892</td> <td> 0.000</td> <td> 1.58e+05</td> <td>  1.7e+05</td>\n",
       "</tr>\n",
       "<tr>\n",
       "  <th>sqft_living15_sc</th> <td> 1.047e+04</td> <td> 2754.454</td> <td>    3.802</td> <td> 0.000</td> <td> 5072.131</td> <td> 1.59e+04</td>\n",
       "</tr>\n",
       "</table>\n",
       "<table class=\"simpletable\">\n",
       "<tr>\n",
       "  <th>Omnibus:</th>       <td>17073.030</td> <th>  Durbin-Watson:     </th>  <td>   1.976</td>  \n",
       "</tr>\n",
       "<tr>\n",
       "  <th>Prob(Omnibus):</th>  <td> 0.000</td>   <th>  Jarque-Bera (JB):  </th> <td>1043757.328</td>\n",
       "</tr>\n",
       "<tr>\n",
       "  <th>Skew:</th>           <td> 3.328</td>   <th>  Prob(JB):          </th>  <td>    0.00</td>  \n",
       "</tr>\n",
       "<tr>\n",
       "  <th>Kurtosis:</th>       <td>36.400</td>   <th>  Cond. No.          </th>  <td>    3.33</td>  \n",
       "</tr>\n",
       "</table><br/><br/>Notes:<br/>[1] Standard Errors assume that the covariance matrix of the errors is correctly specified."
      ],
      "text/plain": [
       "<class 'statsmodels.iolib.summary.Summary'>\n",
       "\"\"\"\n",
       "                            OLS Regression Results                            \n",
       "==============================================================================\n",
       "Dep. Variable:                  price   R-squared:                       0.535\n",
       "Model:                            OLS   Adj. R-squared:                  0.535\n",
       "Method:                 Least Squares   F-statistic:                     8282.\n",
       "Date:                Wed, 14 Dec 2022   Prob (F-statistic):               0.00\n",
       "Time:                        16:00:37   Log-Likelihood:            -2.9912e+05\n",
       "No. Observations:               21597   AIC:                         5.983e+05\n",
       "Df Residuals:                   21593   BIC:                         5.983e+05\n",
       "Df Model:                           3                                         \n",
       "Covariance Type:            nonrobust                                         \n",
       "====================================================================================\n",
       "                       coef    std err          t      P>|t|      [0.025      0.975]\n",
       "------------------------------------------------------------------------------------\n",
       "Intercept         5.403e+05   1704.734    316.939      0.000    5.37e+05    5.44e+05\n",
       "grade_sc           1.13e+05   2786.181     40.561      0.000    1.08e+05    1.18e+05\n",
       "sqft_living_sc    1.637e+05   2982.858     54.892      0.000    1.58e+05     1.7e+05\n",
       "sqft_living15_sc  1.047e+04   2754.454      3.802      0.000    5072.131    1.59e+04\n",
       "==============================================================================\n",
       "Omnibus:                    17073.030   Durbin-Watson:                   1.976\n",
       "Prob(Omnibus):                  0.000   Jarque-Bera (JB):          1043757.328\n",
       "Skew:                           3.328   Prob(JB):                         0.00\n",
       "Kurtosis:                      36.400   Cond. No.                         3.33\n",
       "==============================================================================\n",
       "\n",
       "Notes:\n",
       "[1] Standard Errors assume that the covariance matrix of the errors is correctly specified.\n",
       "\"\"\""
      ]
     },
     "execution_count": 608,
     "metadata": {},
     "output_type": "execute_result"
    }
   ],
   "source": [
    "f = 'price~grade_sc+sqft_living_sc+sqft_living15_sc'\n",
    "model = ols(formula=f, data=data).fit()\n",
    "model.summary()\n"
   ]
  },
  {
   "cell_type": "markdown",
   "metadata": {},
   "source": [
    "We can see that after standardization of our selected features our model performed poorly than before."
   ]
  },
  {
   "cell_type": "code",
   "execution_count": 609,
   "metadata": {},
   "outputs": [
    {
     "data": {
      "text/html": [
       "<table class=\"simpletable\">\n",
       "<caption>OLS Regression Results</caption>\n",
       "<tr>\n",
       "  <th>Dep. Variable:</th>          <td>price</td>      <th>  R-squared:         </th>  <td>   0.746</td>  \n",
       "</tr>\n",
       "<tr>\n",
       "  <th>Model:</th>                   <td>OLS</td>       <th>  Adj. R-squared:    </th>  <td>   0.746</td>  \n",
       "</tr>\n",
       "<tr>\n",
       "  <th>Method:</th>             <td>Least Squares</td>  <th>  F-statistic:       </th>  <td>   880.1</td>  \n",
       "</tr>\n",
       "<tr>\n",
       "  <th>Date:</th>             <td>Wed, 14 Dec 2022</td> <th>  Prob (F-statistic):</th>   <td>  0.00</td>   \n",
       "</tr>\n",
       "<tr>\n",
       "  <th>Time:</th>                 <td>16:00:38</td>     <th>  Log-Likelihood:    </th> <td>-2.9257e+05</td>\n",
       "</tr>\n",
       "<tr>\n",
       "  <th>No. Observations:</th>      <td> 21597</td>      <th>  AIC:               </th>  <td>5.853e+05</td> \n",
       "</tr>\n",
       "<tr>\n",
       "  <th>Df Residuals:</th>          <td> 21524</td>      <th>  BIC:               </th>  <td>5.859e+05</td> \n",
       "</tr>\n",
       "<tr>\n",
       "  <th>Df Model:</th>              <td>    72</td>      <th>                     </th>      <td> </td>     \n",
       "</tr>\n",
       "<tr>\n",
       "  <th>Covariance Type:</th>      <td>nonrobust</td>    <th>                     </th>      <td> </td>     \n",
       "</tr>\n",
       "</table>\n",
       "<table class=\"simpletable\">\n",
       "<tr>\n",
       "           <td></td>              <th>coef</th>     <th>std err</th>      <th>t</th>      <th>P>|t|</th>  <th>[0.025</th>    <th>0.975]</th>  \n",
       "</tr>\n",
       "<tr>\n",
       "  <th>Intercept</th>           <td> 3.401e+05</td> <td> 9763.503</td> <td>   34.832</td> <td> 0.000</td> <td> 3.21e+05</td> <td> 3.59e+05</td>\n",
       "</tr>\n",
       "<tr>\n",
       "  <th>C(zipcode)[T.98002]</th> <td> 5.154e+04</td> <td> 1.64e+04</td> <td>    3.146</td> <td> 0.002</td> <td> 1.94e+04</td> <td> 8.37e+04</td>\n",
       "</tr>\n",
       "<tr>\n",
       "  <th>C(zipcode)[T.98003]</th> <td>-7290.2073</td> <td> 1.48e+04</td> <td>   -0.494</td> <td> 0.621</td> <td>-3.62e+04</td> <td> 2.16e+04</td>\n",
       "</tr>\n",
       "<tr>\n",
       "  <th>C(zipcode)[T.98004]</th> <td> 7.791e+05</td> <td> 1.44e+04</td> <td>   54.098</td> <td> 0.000</td> <td> 7.51e+05</td> <td> 8.07e+05</td>\n",
       "</tr>\n",
       "<tr>\n",
       "  <th>C(zipcode)[T.98005]</th> <td> 2.946e+05</td> <td> 1.74e+04</td> <td>   16.938</td> <td> 0.000</td> <td> 2.61e+05</td> <td> 3.29e+05</td>\n",
       "</tr>\n",
       "<tr>\n",
       "  <th>C(zipcode)[T.98006]</th> <td> 2.759e+05</td> <td>  1.3e+04</td> <td>   21.214</td> <td> 0.000</td> <td>  2.5e+05</td> <td> 3.01e+05</td>\n",
       "</tr>\n",
       "<tr>\n",
       "  <th>C(zipcode)[T.98007]</th> <td> 2.358e+05</td> <td> 1.84e+04</td> <td>   12.800</td> <td> 0.000</td> <td>    2e+05</td> <td> 2.72e+05</td>\n",
       "</tr>\n",
       "<tr>\n",
       "  <th>C(zipcode)[T.98008]</th> <td> 2.946e+05</td> <td> 1.47e+04</td> <td>   20.017</td> <td> 0.000</td> <td> 2.66e+05</td> <td> 3.23e+05</td>\n",
       "</tr>\n",
       "<tr>\n",
       "  <th>C(zipcode)[T.98010]</th> <td> 8.655e+04</td> <td> 2.09e+04</td> <td>    4.132</td> <td> 0.000</td> <td> 4.55e+04</td> <td> 1.28e+05</td>\n",
       "</tr>\n",
       "<tr>\n",
       "  <th>C(zipcode)[T.98011]</th> <td> 1.015e+05</td> <td> 1.65e+04</td> <td>    6.156</td> <td> 0.000</td> <td> 6.92e+04</td> <td> 1.34e+05</td>\n",
       "</tr>\n",
       "<tr>\n",
       "  <th>C(zipcode)[T.98014]</th> <td>  1.26e+05</td> <td> 1.93e+04</td> <td>    6.534</td> <td> 0.000</td> <td> 8.82e+04</td> <td> 1.64e+05</td>\n",
       "</tr>\n",
       "<tr>\n",
       "  <th>C(zipcode)[T.98019]</th> <td> 7.148e+04</td> <td> 1.66e+04</td> <td>    4.301</td> <td> 0.000</td> <td> 3.89e+04</td> <td> 1.04e+05</td>\n",
       "</tr>\n",
       "<tr>\n",
       "  <th>C(zipcode)[T.98022]</th> <td> 5.562e+04</td> <td> 1.56e+04</td> <td>    3.572</td> <td> 0.000</td> <td> 2.51e+04</td> <td> 8.61e+04</td>\n",
       "</tr>\n",
       "<tr>\n",
       "  <th>C(zipcode)[T.98023]</th> <td>-3.116e+04</td> <td> 1.28e+04</td> <td>   -2.433</td> <td> 0.015</td> <td>-5.63e+04</td> <td>-6051.956</td>\n",
       "</tr>\n",
       "<tr>\n",
       "  <th>C(zipcode)[T.98024]</th> <td> 1.907e+05</td> <td> 2.29e+04</td> <td>    8.322</td> <td> 0.000</td> <td> 1.46e+05</td> <td> 2.36e+05</td>\n",
       "</tr>\n",
       "<tr>\n",
       "  <th>C(zipcode)[T.98027]</th> <td> 1.519e+05</td> <td> 1.34e+04</td> <td>   11.319</td> <td> 0.000</td> <td> 1.26e+05</td> <td> 1.78e+05</td>\n",
       "</tr>\n",
       "<tr>\n",
       "  <th>C(zipcode)[T.98028]</th> <td>  1.13e+05</td> <td> 1.47e+04</td> <td>    7.675</td> <td> 0.000</td> <td> 8.41e+04</td> <td> 1.42e+05</td>\n",
       "</tr>\n",
       "<tr>\n",
       "  <th>C(zipcode)[T.98029]</th> <td> 1.848e+05</td> <td> 1.43e+04</td> <td>   12.931</td> <td> 0.000</td> <td> 1.57e+05</td> <td> 2.13e+05</td>\n",
       "</tr>\n",
       "<tr>\n",
       "  <th>C(zipcode)[T.98030]</th> <td>-5948.5415</td> <td> 1.51e+04</td> <td>   -0.393</td> <td> 0.694</td> <td>-3.56e+04</td> <td> 2.37e+04</td>\n",
       "</tr>\n",
       "<tr>\n",
       "  <th>C(zipcode)[T.98031]</th> <td> 6706.5516</td> <td> 1.49e+04</td> <td>    0.451</td> <td> 0.652</td> <td>-2.24e+04</td> <td> 3.58e+04</td>\n",
       "</tr>\n",
       "<tr>\n",
       "  <th>C(zipcode)[T.98032]</th> <td> 1.554e+04</td> <td> 1.92e+04</td> <td>    0.808</td> <td> 0.419</td> <td>-2.22e+04</td> <td> 5.32e+04</td>\n",
       "</tr>\n",
       "<tr>\n",
       "  <th>C(zipcode)[T.98033]</th> <td> 3.763e+05</td> <td> 1.33e+04</td> <td>   28.397</td> <td> 0.000</td> <td>  3.5e+05</td> <td> 4.02e+05</td>\n",
       "</tr>\n",
       "<tr>\n",
       "  <th>C(zipcode)[T.98034]</th> <td> 2.117e+05</td> <td> 1.26e+04</td> <td>   16.833</td> <td> 0.000</td> <td> 1.87e+05</td> <td> 2.36e+05</td>\n",
       "</tr>\n",
       "<tr>\n",
       "  <th>C(zipcode)[T.98038]</th> <td> 1.256e+04</td> <td> 1.24e+04</td> <td>    1.013</td> <td> 0.311</td> <td>-1.18e+04</td> <td> 3.69e+04</td>\n",
       "</tr>\n",
       "<tr>\n",
       "  <th>C(zipcode)[T.98039]</th> <td> 1.353e+06</td> <td> 2.81e+04</td> <td>   48.070</td> <td> 0.000</td> <td>  1.3e+06</td> <td> 1.41e+06</td>\n",
       "</tr>\n",
       "<tr>\n",
       "  <th>C(zipcode)[T.98040]</th> <td> 5.569e+05</td> <td> 1.49e+04</td> <td>   37.287</td> <td> 0.000</td> <td> 5.28e+05</td> <td> 5.86e+05</td>\n",
       "</tr>\n",
       "<tr>\n",
       "  <th>C(zipcode)[T.98042]</th> <td> 3900.2606</td> <td> 1.26e+04</td> <td>    0.310</td> <td> 0.756</td> <td>-2.07e+04</td> <td> 2.85e+04</td>\n",
       "</tr>\n",
       "<tr>\n",
       "  <th>C(zipcode)[T.98045]</th> <td> 1.059e+05</td> <td> 1.59e+04</td> <td>    6.681</td> <td> 0.000</td> <td> 7.48e+04</td> <td> 1.37e+05</td>\n",
       "</tr>\n",
       "<tr>\n",
       "  <th>C(zipcode)[T.98052]</th> <td> 2.094e+05</td> <td> 1.25e+04</td> <td>   16.732</td> <td> 0.000</td> <td> 1.85e+05</td> <td> 2.34e+05</td>\n",
       "</tr>\n",
       "<tr>\n",
       "  <th>C(zipcode)[T.98053]</th> <td> 1.837e+05</td> <td> 1.35e+04</td> <td>   13.600</td> <td> 0.000</td> <td> 1.57e+05</td> <td>  2.1e+05</td>\n",
       "</tr>\n",
       "<tr>\n",
       "  <th>C(zipcode)[T.98055]</th> <td> 5.598e+04</td> <td> 1.49e+04</td> <td>    3.746</td> <td> 0.000</td> <td> 2.67e+04</td> <td> 8.53e+04</td>\n",
       "</tr>\n",
       "<tr>\n",
       "  <th>C(zipcode)[T.98056]</th> <td> 1.126e+05</td> <td> 1.34e+04</td> <td>    8.396</td> <td> 0.000</td> <td> 8.63e+04</td> <td> 1.39e+05</td>\n",
       "</tr>\n",
       "<tr>\n",
       "  <th>C(zipcode)[T.98058]</th> <td> 2.489e+04</td> <td> 1.31e+04</td> <td>    1.905</td> <td> 0.057</td> <td> -715.965</td> <td> 5.05e+04</td>\n",
       "</tr>\n",
       "<tr>\n",
       "  <th>C(zipcode)[T.98059]</th> <td> 6.645e+04</td> <td>  1.3e+04</td> <td>    5.100</td> <td> 0.000</td> <td> 4.09e+04</td> <td>  9.2e+04</td>\n",
       "</tr>\n",
       "<tr>\n",
       "  <th>C(zipcode)[T.98065]</th> <td> 6.485e+04</td> <td> 1.45e+04</td> <td>    4.484</td> <td> 0.000</td> <td> 3.65e+04</td> <td> 9.32e+04</td>\n",
       "</tr>\n",
       "<tr>\n",
       "  <th>C(zipcode)[T.98070]</th> <td> 2.131e+05</td> <td> 1.97e+04</td> <td>   10.813</td> <td> 0.000</td> <td> 1.75e+05</td> <td> 2.52e+05</td>\n",
       "</tr>\n",
       "<tr>\n",
       "  <th>C(zipcode)[T.98072]</th> <td> 1.386e+05</td> <td> 1.49e+04</td> <td>    9.296</td> <td> 0.000</td> <td> 1.09e+05</td> <td> 1.68e+05</td>\n",
       "</tr>\n",
       "<tr>\n",
       "  <th>C(zipcode)[T.98074]</th> <td>  1.59e+05</td> <td> 1.33e+04</td> <td>   11.954</td> <td> 0.000</td> <td> 1.33e+05</td> <td> 1.85e+05</td>\n",
       "</tr>\n",
       "<tr>\n",
       "  <th>C(zipcode)[T.98075]</th> <td> 1.634e+05</td> <td> 1.41e+04</td> <td>   11.615</td> <td> 0.000</td> <td> 1.36e+05</td> <td> 1.91e+05</td>\n",
       "</tr>\n",
       "<tr>\n",
       "  <th>C(zipcode)[T.98077]</th> <td> 1.054e+05</td> <td> 1.65e+04</td> <td>    6.370</td> <td> 0.000</td> <td> 7.29e+04</td> <td> 1.38e+05</td>\n",
       "</tr>\n",
       "<tr>\n",
       "  <th>C(zipcode)[T.98092]</th> <td>-4.293e+04</td> <td> 1.39e+04</td> <td>   -3.086</td> <td> 0.002</td> <td>-7.02e+04</td> <td>-1.57e+04</td>\n",
       "</tr>\n",
       "<tr>\n",
       "  <th>C(zipcode)[T.98102]</th> <td> 5.121e+05</td> <td> 2.07e+04</td> <td>   24.772</td> <td> 0.000</td> <td> 4.72e+05</td> <td> 5.53e+05</td>\n",
       "</tr>\n",
       "<tr>\n",
       "  <th>C(zipcode)[T.98103]</th> <td> 3.563e+05</td> <td> 1.24e+04</td> <td>   28.780</td> <td> 0.000</td> <td> 3.32e+05</td> <td> 3.81e+05</td>\n",
       "</tr>\n",
       "<tr>\n",
       "  <th>C(zipcode)[T.98105]</th> <td> 4.985e+05</td> <td> 1.57e+04</td> <td>   31.814</td> <td> 0.000</td> <td> 4.68e+05</td> <td> 5.29e+05</td>\n",
       "</tr>\n",
       "<tr>\n",
       "  <th>C(zipcode)[T.98106]</th> <td> 1.577e+05</td> <td> 1.41e+04</td> <td>   11.185</td> <td> 0.000</td> <td>  1.3e+05</td> <td> 1.85e+05</td>\n",
       "</tr>\n",
       "<tr>\n",
       "  <th>C(zipcode)[T.98107]</th> <td> 3.628e+05</td> <td>  1.5e+04</td> <td>   24.160</td> <td> 0.000</td> <td> 3.33e+05</td> <td> 3.92e+05</td>\n",
       "</tr>\n",
       "<tr>\n",
       "  <th>C(zipcode)[T.98108]</th> <td> 1.371e+05</td> <td> 1.67e+04</td> <td>    8.194</td> <td> 0.000</td> <td> 1.04e+05</td> <td>  1.7e+05</td>\n",
       "</tr>\n",
       "<tr>\n",
       "  <th>C(zipcode)[T.98109]</th> <td> 5.269e+05</td> <td> 2.03e+04</td> <td>   25.983</td> <td> 0.000</td> <td> 4.87e+05</td> <td> 5.67e+05</td>\n",
       "</tr>\n",
       "<tr>\n",
       "  <th>C(zipcode)[T.98112]</th> <td> 6.237e+05</td> <td>  1.5e+04</td> <td>   41.602</td> <td> 0.000</td> <td> 5.94e+05</td> <td> 6.53e+05</td>\n",
       "</tr>\n",
       "<tr>\n",
       "  <th>C(zipcode)[T.98115]</th> <td> 3.533e+05</td> <td> 1.24e+04</td> <td>   28.445</td> <td> 0.000</td> <td> 3.29e+05</td> <td> 3.78e+05</td>\n",
       "</tr>\n",
       "<tr>\n",
       "  <th>C(zipcode)[T.98116]</th> <td>  3.37e+05</td> <td> 1.41e+04</td> <td>   23.846</td> <td> 0.000</td> <td> 3.09e+05</td> <td> 3.65e+05</td>\n",
       "</tr>\n",
       "<tr>\n",
       "  <th>C(zipcode)[T.98117]</th> <td>  3.47e+05</td> <td> 1.26e+04</td> <td>   27.616</td> <td> 0.000</td> <td> 3.22e+05</td> <td> 3.72e+05</td>\n",
       "</tr>\n",
       "<tr>\n",
       "  <th>C(zipcode)[T.98118]</th> <td> 2.028e+05</td> <td> 1.28e+04</td> <td>   15.883</td> <td> 0.000</td> <td> 1.78e+05</td> <td> 2.28e+05</td>\n",
       "</tr>\n",
       "<tr>\n",
       "  <th>C(zipcode)[T.98119]</th> <td>  5.08e+05</td> <td> 1.68e+04</td> <td>   30.188</td> <td> 0.000</td> <td> 4.75e+05</td> <td> 5.41e+05</td>\n",
       "</tr>\n",
       "<tr>\n",
       "  <th>C(zipcode)[T.98122]</th> <td>  3.55e+05</td> <td> 1.47e+04</td> <td>   24.224</td> <td> 0.000</td> <td> 3.26e+05</td> <td> 3.84e+05</td>\n",
       "</tr>\n",
       "<tr>\n",
       "  <th>C(zipcode)[T.98125]</th> <td> 2.313e+05</td> <td> 1.34e+04</td> <td>   17.279</td> <td> 0.000</td> <td> 2.05e+05</td> <td> 2.58e+05</td>\n",
       "</tr>\n",
       "<tr>\n",
       "  <th>C(zipcode)[T.98126]</th> <td> 2.413e+05</td> <td> 1.39e+04</td> <td>   17.364</td> <td> 0.000</td> <td> 2.14e+05</td> <td> 2.69e+05</td>\n",
       "</tr>\n",
       "<tr>\n",
       "  <th>C(zipcode)[T.98133]</th> <td> 1.796e+05</td> <td> 1.29e+04</td> <td>   13.974</td> <td> 0.000</td> <td> 1.54e+05</td> <td> 2.05e+05</td>\n",
       "</tr>\n",
       "<tr>\n",
       "  <th>C(zipcode)[T.98136]</th> <td> 3.035e+05</td> <td>  1.5e+04</td> <td>   20.184</td> <td> 0.000</td> <td> 2.74e+05</td> <td> 3.33e+05</td>\n",
       "</tr>\n",
       "<tr>\n",
       "  <th>C(zipcode)[T.98144]</th> <td> 3.061e+05</td> <td>  1.4e+04</td> <td>   21.896</td> <td> 0.000</td> <td> 2.79e+05</td> <td> 3.33e+05</td>\n",
       "</tr>\n",
       "<tr>\n",
       "  <th>C(zipcode)[T.98146]</th> <td> 1.684e+05</td> <td> 1.47e+04</td> <td>   11.491</td> <td> 0.000</td> <td>  1.4e+05</td> <td> 1.97e+05</td>\n",
       "</tr>\n",
       "<tr>\n",
       "  <th>C(zipcode)[T.98148]</th> <td> 8.586e+04</td> <td> 2.64e+04</td> <td>    3.250</td> <td> 0.001</td> <td> 3.41e+04</td> <td> 1.38e+05</td>\n",
       "</tr>\n",
       "<tr>\n",
       "  <th>C(zipcode)[T.98155]</th> <td> 1.757e+05</td> <td> 1.31e+04</td> <td>   13.388</td> <td> 0.000</td> <td>  1.5e+05</td> <td> 2.01e+05</td>\n",
       "</tr>\n",
       "<tr>\n",
       "  <th>C(zipcode)[T.98166]</th> <td> 1.453e+05</td> <td> 1.52e+04</td> <td>    9.571</td> <td> 0.000</td> <td> 1.16e+05</td> <td> 1.75e+05</td>\n",
       "</tr>\n",
       "<tr>\n",
       "  <th>C(zipcode)[T.98168]</th> <td> 9.739e+04</td> <td>  1.5e+04</td> <td>    6.510</td> <td> 0.000</td> <td> 6.81e+04</td> <td> 1.27e+05</td>\n",
       "</tr>\n",
       "<tr>\n",
       "  <th>C(zipcode)[T.98177]</th> <td> 2.659e+05</td> <td> 1.52e+04</td> <td>   17.511</td> <td> 0.000</td> <td> 2.36e+05</td> <td> 2.96e+05</td>\n",
       "</tr>\n",
       "<tr>\n",
       "  <th>C(zipcode)[T.98178]</th> <td>  9.55e+04</td> <td> 1.51e+04</td> <td>    6.344</td> <td> 0.000</td> <td>  6.6e+04</td> <td> 1.25e+05</td>\n",
       "</tr>\n",
       "<tr>\n",
       "  <th>C(zipcode)[T.98188]</th> <td> 4.872e+04</td> <td> 1.86e+04</td> <td>    2.612</td> <td> 0.009</td> <td> 1.22e+04</td> <td> 8.53e+04</td>\n",
       "</tr>\n",
       "<tr>\n",
       "  <th>C(zipcode)[T.98198]</th> <td> 6.633e+04</td> <td> 1.48e+04</td> <td>    4.494</td> <td> 0.000</td> <td> 3.74e+04</td> <td> 9.53e+04</td>\n",
       "</tr>\n",
       "<tr>\n",
       "  <th>C(zipcode)[T.98199]</th> <td> 4.172e+05</td> <td> 1.43e+04</td> <td>   29.185</td> <td> 0.000</td> <td> 3.89e+05</td> <td> 4.45e+05</td>\n",
       "</tr>\n",
       "<tr>\n",
       "  <th>grade_sc</th>            <td> 6.541e+04</td> <td> 2159.884</td> <td>   30.283</td> <td> 0.000</td> <td> 6.12e+04</td> <td> 6.96e+04</td>\n",
       "</tr>\n",
       "<tr>\n",
       "  <th>sqft_living_sc</th>      <td> 1.687e+05</td> <td> 2232.712</td> <td>   75.542</td> <td> 0.000</td> <td> 1.64e+05</td> <td> 1.73e+05</td>\n",
       "</tr>\n",
       "<tr>\n",
       "  <th>sqft_living15_sc</th>    <td> 2.758e+04</td> <td> 2212.726</td> <td>   12.463</td> <td> 0.000</td> <td> 2.32e+04</td> <td> 3.19e+04</td>\n",
       "</tr>\n",
       "</table>\n",
       "<table class=\"simpletable\">\n",
       "<tr>\n",
       "  <th>Omnibus:</th>       <td>23105.021</td> <th>  Durbin-Watson:     </th>  <td>   1.976</td>  \n",
       "</tr>\n",
       "<tr>\n",
       "  <th>Prob(Omnibus):</th>  <td> 0.000</td>   <th>  Jarque-Bera (JB):  </th> <td>4511000.453</td>\n",
       "</tr>\n",
       "<tr>\n",
       "  <th>Skew:</th>           <td> 5.061</td>   <th>  Prob(JB):          </th>  <td>    0.00</td>  \n",
       "</tr>\n",
       "<tr>\n",
       "  <th>Kurtosis:</th>       <td>73.075</td>   <th>  Cond. No.          </th>  <td>    103.</td>  \n",
       "</tr>\n",
       "</table><br/><br/>Notes:<br/>[1] Standard Errors assume that the covariance matrix of the errors is correctly specified."
      ],
      "text/plain": [
       "<class 'statsmodels.iolib.summary.Summary'>\n",
       "\"\"\"\n",
       "                            OLS Regression Results                            \n",
       "==============================================================================\n",
       "Dep. Variable:                  price   R-squared:                       0.746\n",
       "Model:                            OLS   Adj. R-squared:                  0.746\n",
       "Method:                 Least Squares   F-statistic:                     880.1\n",
       "Date:                Wed, 14 Dec 2022   Prob (F-statistic):               0.00\n",
       "Time:                        16:00:38   Log-Likelihood:            -2.9257e+05\n",
       "No. Observations:               21597   AIC:                         5.853e+05\n",
       "Df Residuals:                   21524   BIC:                         5.859e+05\n",
       "Df Model:                          72                                         \n",
       "Covariance Type:            nonrobust                                         \n",
       "=======================================================================================\n",
       "                          coef    std err          t      P>|t|      [0.025      0.975]\n",
       "---------------------------------------------------------------------------------------\n",
       "Intercept            3.401e+05   9763.503     34.832      0.000    3.21e+05    3.59e+05\n",
       "C(zipcode)[T.98002]  5.154e+04   1.64e+04      3.146      0.002    1.94e+04    8.37e+04\n",
       "C(zipcode)[T.98003] -7290.2073   1.48e+04     -0.494      0.621   -3.62e+04    2.16e+04\n",
       "C(zipcode)[T.98004]  7.791e+05   1.44e+04     54.098      0.000    7.51e+05    8.07e+05\n",
       "C(zipcode)[T.98005]  2.946e+05   1.74e+04     16.938      0.000    2.61e+05    3.29e+05\n",
       "C(zipcode)[T.98006]  2.759e+05    1.3e+04     21.214      0.000     2.5e+05    3.01e+05\n",
       "C(zipcode)[T.98007]  2.358e+05   1.84e+04     12.800      0.000       2e+05    2.72e+05\n",
       "C(zipcode)[T.98008]  2.946e+05   1.47e+04     20.017      0.000    2.66e+05    3.23e+05\n",
       "C(zipcode)[T.98010]  8.655e+04   2.09e+04      4.132      0.000    4.55e+04    1.28e+05\n",
       "C(zipcode)[T.98011]  1.015e+05   1.65e+04      6.156      0.000    6.92e+04    1.34e+05\n",
       "C(zipcode)[T.98014]   1.26e+05   1.93e+04      6.534      0.000    8.82e+04    1.64e+05\n",
       "C(zipcode)[T.98019]  7.148e+04   1.66e+04      4.301      0.000    3.89e+04    1.04e+05\n",
       "C(zipcode)[T.98022]  5.562e+04   1.56e+04      3.572      0.000    2.51e+04    8.61e+04\n",
       "C(zipcode)[T.98023] -3.116e+04   1.28e+04     -2.433      0.015   -5.63e+04   -6051.956\n",
       "C(zipcode)[T.98024]  1.907e+05   2.29e+04      8.322      0.000    1.46e+05    2.36e+05\n",
       "C(zipcode)[T.98027]  1.519e+05   1.34e+04     11.319      0.000    1.26e+05    1.78e+05\n",
       "C(zipcode)[T.98028]   1.13e+05   1.47e+04      7.675      0.000    8.41e+04    1.42e+05\n",
       "C(zipcode)[T.98029]  1.848e+05   1.43e+04     12.931      0.000    1.57e+05    2.13e+05\n",
       "C(zipcode)[T.98030] -5948.5415   1.51e+04     -0.393      0.694   -3.56e+04    2.37e+04\n",
       "C(zipcode)[T.98031]  6706.5516   1.49e+04      0.451      0.652   -2.24e+04    3.58e+04\n",
       "C(zipcode)[T.98032]  1.554e+04   1.92e+04      0.808      0.419   -2.22e+04    5.32e+04\n",
       "C(zipcode)[T.98033]  3.763e+05   1.33e+04     28.397      0.000     3.5e+05    4.02e+05\n",
       "C(zipcode)[T.98034]  2.117e+05   1.26e+04     16.833      0.000    1.87e+05    2.36e+05\n",
       "C(zipcode)[T.98038]  1.256e+04   1.24e+04      1.013      0.311   -1.18e+04    3.69e+04\n",
       "C(zipcode)[T.98039]  1.353e+06   2.81e+04     48.070      0.000     1.3e+06    1.41e+06\n",
       "C(zipcode)[T.98040]  5.569e+05   1.49e+04     37.287      0.000    5.28e+05    5.86e+05\n",
       "C(zipcode)[T.98042]  3900.2606   1.26e+04      0.310      0.756   -2.07e+04    2.85e+04\n",
       "C(zipcode)[T.98045]  1.059e+05   1.59e+04      6.681      0.000    7.48e+04    1.37e+05\n",
       "C(zipcode)[T.98052]  2.094e+05   1.25e+04     16.732      0.000    1.85e+05    2.34e+05\n",
       "C(zipcode)[T.98053]  1.837e+05   1.35e+04     13.600      0.000    1.57e+05     2.1e+05\n",
       "C(zipcode)[T.98055]  5.598e+04   1.49e+04      3.746      0.000    2.67e+04    8.53e+04\n",
       "C(zipcode)[T.98056]  1.126e+05   1.34e+04      8.396      0.000    8.63e+04    1.39e+05\n",
       "C(zipcode)[T.98058]  2.489e+04   1.31e+04      1.905      0.057    -715.965    5.05e+04\n",
       "C(zipcode)[T.98059]  6.645e+04    1.3e+04      5.100      0.000    4.09e+04     9.2e+04\n",
       "C(zipcode)[T.98065]  6.485e+04   1.45e+04      4.484      0.000    3.65e+04    9.32e+04\n",
       "C(zipcode)[T.98070]  2.131e+05   1.97e+04     10.813      0.000    1.75e+05    2.52e+05\n",
       "C(zipcode)[T.98072]  1.386e+05   1.49e+04      9.296      0.000    1.09e+05    1.68e+05\n",
       "C(zipcode)[T.98074]   1.59e+05   1.33e+04     11.954      0.000    1.33e+05    1.85e+05\n",
       "C(zipcode)[T.98075]  1.634e+05   1.41e+04     11.615      0.000    1.36e+05    1.91e+05\n",
       "C(zipcode)[T.98077]  1.054e+05   1.65e+04      6.370      0.000    7.29e+04    1.38e+05\n",
       "C(zipcode)[T.98092] -4.293e+04   1.39e+04     -3.086      0.002   -7.02e+04   -1.57e+04\n",
       "C(zipcode)[T.98102]  5.121e+05   2.07e+04     24.772      0.000    4.72e+05    5.53e+05\n",
       "C(zipcode)[T.98103]  3.563e+05   1.24e+04     28.780      0.000    3.32e+05    3.81e+05\n",
       "C(zipcode)[T.98105]  4.985e+05   1.57e+04     31.814      0.000    4.68e+05    5.29e+05\n",
       "C(zipcode)[T.98106]  1.577e+05   1.41e+04     11.185      0.000     1.3e+05    1.85e+05\n",
       "C(zipcode)[T.98107]  3.628e+05    1.5e+04     24.160      0.000    3.33e+05    3.92e+05\n",
       "C(zipcode)[T.98108]  1.371e+05   1.67e+04      8.194      0.000    1.04e+05     1.7e+05\n",
       "C(zipcode)[T.98109]  5.269e+05   2.03e+04     25.983      0.000    4.87e+05    5.67e+05\n",
       "C(zipcode)[T.98112]  6.237e+05    1.5e+04     41.602      0.000    5.94e+05    6.53e+05\n",
       "C(zipcode)[T.98115]  3.533e+05   1.24e+04     28.445      0.000    3.29e+05    3.78e+05\n",
       "C(zipcode)[T.98116]   3.37e+05   1.41e+04     23.846      0.000    3.09e+05    3.65e+05\n",
       "C(zipcode)[T.98117]   3.47e+05   1.26e+04     27.616      0.000    3.22e+05    3.72e+05\n",
       "C(zipcode)[T.98118]  2.028e+05   1.28e+04     15.883      0.000    1.78e+05    2.28e+05\n",
       "C(zipcode)[T.98119]   5.08e+05   1.68e+04     30.188      0.000    4.75e+05    5.41e+05\n",
       "C(zipcode)[T.98122]   3.55e+05   1.47e+04     24.224      0.000    3.26e+05    3.84e+05\n",
       "C(zipcode)[T.98125]  2.313e+05   1.34e+04     17.279      0.000    2.05e+05    2.58e+05\n",
       "C(zipcode)[T.98126]  2.413e+05   1.39e+04     17.364      0.000    2.14e+05    2.69e+05\n",
       "C(zipcode)[T.98133]  1.796e+05   1.29e+04     13.974      0.000    1.54e+05    2.05e+05\n",
       "C(zipcode)[T.98136]  3.035e+05    1.5e+04     20.184      0.000    2.74e+05    3.33e+05\n",
       "C(zipcode)[T.98144]  3.061e+05    1.4e+04     21.896      0.000    2.79e+05    3.33e+05\n",
       "C(zipcode)[T.98146]  1.684e+05   1.47e+04     11.491      0.000     1.4e+05    1.97e+05\n",
       "C(zipcode)[T.98148]  8.586e+04   2.64e+04      3.250      0.001    3.41e+04    1.38e+05\n",
       "C(zipcode)[T.98155]  1.757e+05   1.31e+04     13.388      0.000     1.5e+05    2.01e+05\n",
       "C(zipcode)[T.98166]  1.453e+05   1.52e+04      9.571      0.000    1.16e+05    1.75e+05\n",
       "C(zipcode)[T.98168]  9.739e+04    1.5e+04      6.510      0.000    6.81e+04    1.27e+05\n",
       "C(zipcode)[T.98177]  2.659e+05   1.52e+04     17.511      0.000    2.36e+05    2.96e+05\n",
       "C(zipcode)[T.98178]   9.55e+04   1.51e+04      6.344      0.000     6.6e+04    1.25e+05\n",
       "C(zipcode)[T.98188]  4.872e+04   1.86e+04      2.612      0.009    1.22e+04    8.53e+04\n",
       "C(zipcode)[T.98198]  6.633e+04   1.48e+04      4.494      0.000    3.74e+04    9.53e+04\n",
       "C(zipcode)[T.98199]  4.172e+05   1.43e+04     29.185      0.000    3.89e+05    4.45e+05\n",
       "grade_sc             6.541e+04   2159.884     30.283      0.000    6.12e+04    6.96e+04\n",
       "sqft_living_sc       1.687e+05   2232.712     75.542      0.000    1.64e+05    1.73e+05\n",
       "sqft_living15_sc     2.758e+04   2212.726     12.463      0.000    2.32e+04    3.19e+04\n",
       "==============================================================================\n",
       "Omnibus:                    23105.021   Durbin-Watson:                   1.976\n",
       "Prob(Omnibus):                  0.000   Jarque-Bera (JB):          4511000.453\n",
       "Skew:                           5.061   Prob(JB):                         0.00\n",
       "Kurtosis:                      73.075   Cond. No.                         103.\n",
       "==============================================================================\n",
       "\n",
       "Notes:\n",
       "[1] Standard Errors assume that the covariance matrix of the errors is correctly specified.\n",
       "\"\"\""
      ]
     },
     "execution_count": 609,
     "metadata": {},
     "output_type": "execute_result"
    }
   ],
   "source": [
    "#include the zipcode column to the model\n",
    "#zipcodes have no numerical significance in our data,this variable is treated as categorica\n",
    "f = 'price~grade_sc+sqft_living_sc+sqft_living15_sc+C(zipcode)'\n",
    "model = ols(formula=f, data=data).fit()\n",
    "model.summary()\n"
   ]
  },
  {
   "cell_type": "markdown",
   "metadata": {},
   "source": [
    "# Validate Model using theTrain-Test- Split"
   ]
  },
  {
   "cell_type": "code",
   "execution_count": 610,
   "metadata": {},
   "outputs": [],
   "source": [
    "from sklearn.model_selection import train_test_split\n",
    "X = data.drop('price', axis=1)\n",
    "y = data['price']\n",
    "X_train, X_test, y_train, y_test = train_test_split(X, y, test_size=0.20, random_state=42)\n"
   ]
  },
  {
   "cell_type": "code",
   "execution_count": 611,
   "metadata": {},
   "outputs": [],
   "source": [
    "df_train = pd.DataFrame(X_train, columns = X.columns)\n",
    "df_train['price'] = y_train\n",
    "df_test = pd.DataFrame(X_test, columns = X.columns)\n",
    "df_test['price'] = y_test\n"
   ]
  },
  {
   "cell_type": "code",
   "execution_count": 612,
   "metadata": {},
   "outputs": [
    {
     "data": {
      "text/plain": [
       "0.7324798441625024"
      ]
     },
     "execution_count": 612,
     "metadata": {},
     "output_type": "execute_result"
    }
   ],
   "source": [
    "from sklearn.metrics import r2_score\n",
    "y_hat_test = model.predict(df_test)\n",
    "r2_score(y_test, y_hat_test)\n"
   ]
  },
  {
   "cell_type": "markdown",
   "metadata": {},
   "source": [
    "# Conclusion & Recommendations"
   ]
  },
  {
   "cell_type": "markdown",
   "metadata": {},
   "source": [
    "The results of the analysis were as follows:\n",
    "After running the second model with an  R-squared value of 0.733, telling us that the model fit the data with an accuracy of 73%, We can confidently say that zipcode is one of the strongest influencers on the value of homes in king county.\n",
    "other features that were positively correlated with price included:\n",
    "Square-footage of living space, which was positively correlated with house prices.\n",
    "Building grade, which was positively correlated with house prices\n",
    "The square footage of interior housing living space for the nearest 15 neighbors which was positively correlated with house price.\n",
    "\n",
    "The recommendations below will enable a housing development company in King County to increase their chances of selling higher-priced homes:\n",
    "\n",
    "1.)Make sure your home is in an upscale zipcodes\n",
    "\n",
    "2.)Increase square-footage of living space\n",
    "\n",
    "3.)Attain highest possible building grade by using high-quality materials so that it is graded well by the King County Grading System\n",
    "\n",
    "4.)Choose land/lots where the nearest 15 neighbors have a large amount of interior square footage."
   ]
  },
  {
   "cell_type": "markdown",
   "metadata": {},
   "source": [
    "# Future Work"
   ]
  },
  {
   "cell_type": "markdown",
   "metadata": {},
   "source": [
    "\n",
    "In the future, the next steps would be reducing noise in the data to improve the accuracy of our model. Additionally, i would like to investigate certain features like proximity to good schools, other facilities like hospital, gyms, restaurants and play grounds.\n"
   ]
  }
 ],
 "metadata": {
  "kernelspec": {
   "display_name": "Python 3",
   "language": "python",
   "name": "python3"
  },
  "language_info": {
   "codemirror_mode": {
    "name": "ipython",
    "version": 3
   },
   "file_extension": ".py",
   "mimetype": "text/x-python",
   "name": "python",
   "nbconvert_exporter": "python",
   "pygments_lexer": "ipython3",
   "version": "3.8.5"
  }
 },
 "nbformat": 4,
 "nbformat_minor": 2
}
